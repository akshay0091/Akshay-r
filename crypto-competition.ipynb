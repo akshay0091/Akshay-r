{
 "cells": [
  {
   "cell_type": "code",
   "execution_count": 1,
   "id": "69ca6731",
   "metadata": {
    "_cell_guid": "b1076dfc-b9ad-4769-8c92-a6c4dae69d19",
    "_uuid": "8f2839f25d086af736a60e9eeb907d3b93b6e0e5",
    "execution": {
     "iopub.execute_input": "2022-01-30T13:59:48.437702Z",
     "iopub.status.busy": "2022-01-30T13:59:48.437046Z",
     "iopub.status.idle": "2022-01-30T13:59:48.451452Z",
     "shell.execute_reply": "2022-01-30T13:59:48.450696Z"
    },
    "papermill": {
     "duration": 0.073302,
     "end_time": "2022-01-30T13:59:48.451656",
     "exception": false,
     "start_time": "2022-01-30T13:59:48.378354",
     "status": "completed"
    },
    "tags": []
   },
   "outputs": [
    {
     "name": "stdout",
     "output_type": "stream",
     "text": [
      "/kaggle/input/g-research-crypto-forecasting/example_sample_submission.csv\n",
      "/kaggle/input/g-research-crypto-forecasting/asset_details.csv\n",
      "/kaggle/input/g-research-crypto-forecasting/example_test.csv\n",
      "/kaggle/input/g-research-crypto-forecasting/train.csv\n",
      "/kaggle/input/g-research-crypto-forecasting/supplemental_train.csv\n",
      "/kaggle/input/g-research-crypto-forecasting/gresearch_crypto/competition.cpython-37m-x86_64-linux-gnu.so\n",
      "/kaggle/input/g-research-crypto-forecasting/gresearch_crypto/__init__.py\n"
     ]
    }
   ],
   "source": [
    "# This Python 3 environment comes with many helpful analytics libraries installed\n",
    "# It is defined by the kaggle/python Docker image: https://github.com/kaggle/docker-python\n",
    "# For example, here's several helpful packages to load\n",
    "\n",
    "import numpy as np # linear algebra\n",
    "import pandas as pd # data processing, CSV file I/O (e.g. pd.read_csv)\n",
    "\n",
    "# Input data files are available in the read-only \"../input/\" directory\n",
    "# For example, running this (by clicking run or pressing Shift+Enter) will list all files under the input directory\n",
    "\n",
    "import os\n",
    "for dirname, _, filenames in os.walk('/kaggle/input'):\n",
    "    for filename in filenames:\n",
    "        print(os.path.join(dirname, filename))\n",
    "\n",
    "# You can write up to 20GB to the current directory (/kaggle/working/) that gets preserved as output when you create a version using \"Save & Run All\" \n",
    "# You can also write temporary files to /kaggle/temp/, but they won't be saved outside of the current session"
   ]
  },
  {
   "cell_type": "code",
   "execution_count": 2,
   "id": "45e64a93",
   "metadata": {
    "execution": {
     "iopub.execute_input": "2022-01-30T13:59:48.557013Z",
     "iopub.status.busy": "2022-01-30T13:59:48.556291Z",
     "iopub.status.idle": "2022-01-30T14:00:48.704229Z",
     "shell.execute_reply": "2022-01-30T14:00:48.704778Z"
    },
    "papermill": {
     "duration": 60.205939,
     "end_time": "2022-01-30T14:00:48.704983",
     "exception": false,
     "start_time": "2022-01-30T13:59:48.499044",
     "status": "completed"
    },
    "tags": []
   },
   "outputs": [
    {
     "data": {
      "text/html": [
       "<div>\n",
       "<style scoped>\n",
       "    .dataframe tbody tr th:only-of-type {\n",
       "        vertical-align: middle;\n",
       "    }\n",
       "\n",
       "    .dataframe tbody tr th {\n",
       "        vertical-align: top;\n",
       "    }\n",
       "\n",
       "    .dataframe thead th {\n",
       "        text-align: right;\n",
       "    }\n",
       "</style>\n",
       "<table border=\"1\" class=\"dataframe\">\n",
       "  <thead>\n",
       "    <tr style=\"text-align: right;\">\n",
       "      <th></th>\n",
       "      <th>timestamp</th>\n",
       "      <th>Asset_ID</th>\n",
       "      <th>Close</th>\n",
       "      <th>Target</th>\n",
       "    </tr>\n",
       "  </thead>\n",
       "  <tbody>\n",
       "    <tr>\n",
       "      <th>0</th>\n",
       "      <td>1514764860</td>\n",
       "      <td>2</td>\n",
       "      <td>2374.590</td>\n",
       "      <td>-0.004218</td>\n",
       "    </tr>\n",
       "    <tr>\n",
       "      <th>1</th>\n",
       "      <td>1514764860</td>\n",
       "      <td>0</td>\n",
       "      <td>8.530</td>\n",
       "      <td>-0.014399</td>\n",
       "    </tr>\n",
       "    <tr>\n",
       "      <th>2</th>\n",
       "      <td>1514764860</td>\n",
       "      <td>1</td>\n",
       "      <td>13850.176</td>\n",
       "      <td>-0.014643</td>\n",
       "    </tr>\n",
       "  </tbody>\n",
       "</table>\n",
       "</div>"
      ],
      "text/plain": [
       "    timestamp  Asset_ID      Close    Target\n",
       "0  1514764860         2   2374.590 -0.004218\n",
       "1  1514764860         0      8.530 -0.014399\n",
       "2  1514764860         1  13850.176 -0.014643"
      ]
     },
     "execution_count": 2,
     "metadata": {},
     "output_type": "execute_result"
    }
   ],
   "source": [
    "import pandas as pd\n",
    "col_list = ['timestamp', 'Asset_ID','Close','Target']\n",
    "df_t = pd.read_csv('../input/g-research-crypto-forecasting/train.csv', low_memory=False, \n",
    "                       dtype={'Asset_ID': 'int8', 'Count': 'int32', 'row_id': 'int32', 'Count': 'int32', \n",
    "                              'Open': 'float64', 'High': 'float64', 'Low': 'float64', 'Close': 'float64', \n",
    "                              'Volume': 'float64', 'VWAP': 'float64'\n",
    "                             },usecols=col_list\n",
    "                      )\n",
    "df_t.head(3)\n"
   ]
  },
  {
   "cell_type": "code",
   "execution_count": 3,
   "id": "bb26af2d",
   "metadata": {
    "execution": {
     "iopub.execute_input": "2022-01-30T14:00:48.802064Z",
     "iopub.status.busy": "2022-01-30T14:00:48.801013Z",
     "iopub.status.idle": "2022-01-30T14:00:48.813192Z",
     "shell.execute_reply": "2022-01-30T14:00:48.812672Z"
    },
    "papermill": {
     "duration": 0.062038,
     "end_time": "2022-01-30T14:00:48.813345",
     "exception": false,
     "start_time": "2022-01-30T14:00:48.751307",
     "status": "completed"
    },
    "tags": []
   },
   "outputs": [
    {
     "data": {
      "text/html": [
       "<div>\n",
       "<style scoped>\n",
       "    .dataframe tbody tr th:only-of-type {\n",
       "        vertical-align: middle;\n",
       "    }\n",
       "\n",
       "    .dataframe tbody tr th {\n",
       "        vertical-align: top;\n",
       "    }\n",
       "\n",
       "    .dataframe thead th {\n",
       "        text-align: right;\n",
       "    }\n",
       "</style>\n",
       "<table border=\"1\" class=\"dataframe\">\n",
       "  <thead>\n",
       "    <tr style=\"text-align: right;\">\n",
       "      <th></th>\n",
       "      <th>timestamp</th>\n",
       "      <th>Asset_ID</th>\n",
       "      <th>Close</th>\n",
       "      <th>Target</th>\n",
       "    </tr>\n",
       "  </thead>\n",
       "  <tbody>\n",
       "    <tr>\n",
       "      <th>24236796</th>\n",
       "      <td>1632182400</td>\n",
       "      <td>4</td>\n",
       "      <td>0.208294</td>\n",
       "      <td>NaN</td>\n",
       "    </tr>\n",
       "    <tr>\n",
       "      <th>24236797</th>\n",
       "      <td>1632182400</td>\n",
       "      <td>5</td>\n",
       "      <td>4.195740</td>\n",
       "      <td>NaN</td>\n",
       "    </tr>\n",
       "    <tr>\n",
       "      <th>24236798</th>\n",
       "      <td>1632182400</td>\n",
       "      <td>7</td>\n",
       "      <td>49.068150</td>\n",
       "      <td>NaN</td>\n",
       "    </tr>\n",
       "    <tr>\n",
       "      <th>24236799</th>\n",
       "      <td>1632182400</td>\n",
       "      <td>6</td>\n",
       "      <td>2972.603333</td>\n",
       "      <td>NaN</td>\n",
       "    </tr>\n",
       "    <tr>\n",
       "      <th>24236800</th>\n",
       "      <td>1632182400</td>\n",
       "      <td>8</td>\n",
       "      <td>1.282550</td>\n",
       "      <td>NaN</td>\n",
       "    </tr>\n",
       "    <tr>\n",
       "      <th>24236801</th>\n",
       "      <td>1632182400</td>\n",
       "      <td>9</td>\n",
       "      <td>156.943857</td>\n",
       "      <td>NaN</td>\n",
       "    </tr>\n",
       "    <tr>\n",
       "      <th>24236802</th>\n",
       "      <td>1632182400</td>\n",
       "      <td>10</td>\n",
       "      <td>2432.907467</td>\n",
       "      <td>NaN</td>\n",
       "    </tr>\n",
       "    <tr>\n",
       "      <th>24236803</th>\n",
       "      <td>1632182400</td>\n",
       "      <td>13</td>\n",
       "      <td>0.091349</td>\n",
       "      <td>NaN</td>\n",
       "    </tr>\n",
       "    <tr>\n",
       "      <th>24236804</th>\n",
       "      <td>1632182400</td>\n",
       "      <td>12</td>\n",
       "      <td>0.282051</td>\n",
       "      <td>NaN</td>\n",
       "    </tr>\n",
       "    <tr>\n",
       "      <th>24236805</th>\n",
       "      <td>1632182400</td>\n",
       "      <td>11</td>\n",
       "      <td>232.275000</td>\n",
       "      <td>NaN</td>\n",
       "    </tr>\n",
       "  </tbody>\n",
       "</table>\n",
       "</div>"
      ],
      "text/plain": [
       "           timestamp  Asset_ID        Close  Target\n",
       "24236796  1632182400         4     0.208294     NaN\n",
       "24236797  1632182400         5     4.195740     NaN\n",
       "24236798  1632182400         7    49.068150     NaN\n",
       "24236799  1632182400         6  2972.603333     NaN\n",
       "24236800  1632182400         8     1.282550     NaN\n",
       "24236801  1632182400         9   156.943857     NaN\n",
       "24236802  1632182400        10  2432.907467     NaN\n",
       "24236803  1632182400        13     0.091349     NaN\n",
       "24236804  1632182400        12     0.282051     NaN\n",
       "24236805  1632182400        11   232.275000     NaN"
      ]
     },
     "execution_count": 3,
     "metadata": {},
     "output_type": "execute_result"
    }
   ],
   "source": [
    "df_t.tail(10)"
   ]
  },
  {
   "cell_type": "code",
   "execution_count": 4,
   "id": "af6323f9",
   "metadata": {
    "execution": {
     "iopub.execute_input": "2022-01-30T14:00:48.916328Z",
     "iopub.status.busy": "2022-01-30T14:00:48.915236Z",
     "iopub.status.idle": "2022-01-30T14:00:48.926435Z",
     "shell.execute_reply": "2022-01-30T14:00:48.926905Z"
    },
    "papermill": {
     "duration": 0.066061,
     "end_time": "2022-01-30T14:00:48.927098",
     "exception": false,
     "start_time": "2022-01-30T14:00:48.861037",
     "status": "completed"
    },
    "tags": []
   },
   "outputs": [
    {
     "data": {
      "text/html": [
       "<div>\n",
       "<style scoped>\n",
       "    .dataframe tbody tr th:only-of-type {\n",
       "        vertical-align: middle;\n",
       "    }\n",
       "\n",
       "    .dataframe tbody tr th {\n",
       "        vertical-align: top;\n",
       "    }\n",
       "\n",
       "    .dataframe thead th {\n",
       "        text-align: right;\n",
       "    }\n",
       "</style>\n",
       "<table border=\"1\" class=\"dataframe\">\n",
       "  <thead>\n",
       "    <tr style=\"text-align: right;\">\n",
       "      <th></th>\n",
       "      <th>timestamp</th>\n",
       "      <th>Asset_ID</th>\n",
       "      <th>Close</th>\n",
       "      <th>Target</th>\n",
       "    </tr>\n",
       "  </thead>\n",
       "  <tbody>\n",
       "    <tr>\n",
       "      <th>0</th>\n",
       "      <td>1514764860</td>\n",
       "      <td>2</td>\n",
       "      <td>2374.590000</td>\n",
       "      <td>-0.004218</td>\n",
       "    </tr>\n",
       "    <tr>\n",
       "      <th>1</th>\n",
       "      <td>1514764860</td>\n",
       "      <td>0</td>\n",
       "      <td>8.530000</td>\n",
       "      <td>-0.014399</td>\n",
       "    </tr>\n",
       "    <tr>\n",
       "      <th>2</th>\n",
       "      <td>1514764860</td>\n",
       "      <td>1</td>\n",
       "      <td>13850.176000</td>\n",
       "      <td>-0.014643</td>\n",
       "    </tr>\n",
       "    <tr>\n",
       "      <th>3</th>\n",
       "      <td>1514764860</td>\n",
       "      <td>5</td>\n",
       "      <td>7.657600</td>\n",
       "      <td>-0.013922</td>\n",
       "    </tr>\n",
       "    <tr>\n",
       "      <th>4</th>\n",
       "      <td>1514764860</td>\n",
       "      <td>7</td>\n",
       "      <td>25.877000</td>\n",
       "      <td>-0.008264</td>\n",
       "    </tr>\n",
       "    <tr>\n",
       "      <th>...</th>\n",
       "      <td>...</td>\n",
       "      <td>...</td>\n",
       "      <td>...</td>\n",
       "      <td>...</td>\n",
       "    </tr>\n",
       "    <tr>\n",
       "      <th>24236801</th>\n",
       "      <td>1632182400</td>\n",
       "      <td>9</td>\n",
       "      <td>156.943857</td>\n",
       "      <td>NaN</td>\n",
       "    </tr>\n",
       "    <tr>\n",
       "      <th>24236802</th>\n",
       "      <td>1632182400</td>\n",
       "      <td>10</td>\n",
       "      <td>2432.907467</td>\n",
       "      <td>NaN</td>\n",
       "    </tr>\n",
       "    <tr>\n",
       "      <th>24236803</th>\n",
       "      <td>1632182400</td>\n",
       "      <td>13</td>\n",
       "      <td>0.091349</td>\n",
       "      <td>NaN</td>\n",
       "    </tr>\n",
       "    <tr>\n",
       "      <th>24236804</th>\n",
       "      <td>1632182400</td>\n",
       "      <td>12</td>\n",
       "      <td>0.282051</td>\n",
       "      <td>NaN</td>\n",
       "    </tr>\n",
       "    <tr>\n",
       "      <th>24236805</th>\n",
       "      <td>1632182400</td>\n",
       "      <td>11</td>\n",
       "      <td>232.275000</td>\n",
       "      <td>NaN</td>\n",
       "    </tr>\n",
       "  </tbody>\n",
       "</table>\n",
       "<p>24236806 rows × 4 columns</p>\n",
       "</div>"
      ],
      "text/plain": [
       "           timestamp  Asset_ID         Close    Target\n",
       "0         1514764860         2   2374.590000 -0.004218\n",
       "1         1514764860         0      8.530000 -0.014399\n",
       "2         1514764860         1  13850.176000 -0.014643\n",
       "3         1514764860         5      7.657600 -0.013922\n",
       "4         1514764860         7     25.877000 -0.008264\n",
       "...              ...       ...           ...       ...\n",
       "24236801  1632182400         9    156.943857       NaN\n",
       "24236802  1632182400        10   2432.907467       NaN\n",
       "24236803  1632182400        13      0.091349       NaN\n",
       "24236804  1632182400        12      0.282051       NaN\n",
       "24236805  1632182400        11    232.275000       NaN\n",
       "\n",
       "[24236806 rows x 4 columns]"
      ]
     },
     "execution_count": 4,
     "metadata": {},
     "output_type": "execute_result"
    }
   ],
   "source": [
    "#df_reduce=reduce_mem_usage(df_t)\n",
    "df_reduce=df_t\n",
    "df_reduce"
   ]
  },
  {
   "cell_type": "code",
   "execution_count": 5,
   "id": "7e632215",
   "metadata": {
    "execution": {
     "iopub.execute_input": "2022-01-30T14:00:49.030349Z",
     "iopub.status.busy": "2022-01-30T14:00:49.029319Z",
     "iopub.status.idle": "2022-01-30T14:00:49.032964Z",
     "shell.execute_reply": "2022-01-30T14:00:49.033481Z"
    },
    "papermill": {
     "duration": 0.058988,
     "end_time": "2022-01-30T14:00:49.033682",
     "exception": false,
     "start_time": "2022-01-30T14:00:48.974694",
     "status": "completed"
    },
    "tags": []
   },
   "outputs": [
    {
     "data": {
      "text/plain": [
       "(24236806, 4)"
      ]
     },
     "execution_count": 5,
     "metadata": {},
     "output_type": "execute_result"
    }
   ],
   "source": [
    "df_reduce.shape"
   ]
  },
  {
   "cell_type": "code",
   "execution_count": 6,
   "id": "7611b788",
   "metadata": {
    "execution": {
     "iopub.execute_input": "2022-01-30T14:00:49.134838Z",
     "iopub.status.busy": "2022-01-30T14:00:49.134167Z",
     "iopub.status.idle": "2022-01-30T14:00:49.138811Z",
     "shell.execute_reply": "2022-01-30T14:00:49.139466Z"
    },
    "papermill": {
     "duration": 0.056374,
     "end_time": "2022-01-30T14:00:49.139658",
     "exception": false,
     "start_time": "2022-01-30T14:00:49.083284",
     "status": "completed"
    },
    "tags": []
   },
   "outputs": [
    {
     "data": {
      "text/plain": [
       "(24236806, 4)"
      ]
     },
     "execution_count": 6,
     "metadata": {},
     "output_type": "execute_result"
    }
   ],
   "source": [
    "df=df_reduce#.head(24236)\n",
    "df.shape"
   ]
  },
  {
   "cell_type": "code",
   "execution_count": null,
   "id": "8bc9e3a9",
   "metadata": {
    "papermill": {
     "duration": 0.048325,
     "end_time": "2022-01-30T14:00:49.237061",
     "exception": false,
     "start_time": "2022-01-30T14:00:49.188736",
     "status": "completed"
    },
    "tags": []
   },
   "outputs": [],
   "source": []
  },
  {
   "cell_type": "code",
   "execution_count": 7,
   "id": "31755eb9",
   "metadata": {
    "execution": {
     "iopub.execute_input": "2022-01-30T14:00:49.337967Z",
     "iopub.status.busy": "2022-01-30T14:00:49.337296Z",
     "iopub.status.idle": "2022-01-30T14:00:49.346359Z",
     "shell.execute_reply": "2022-01-30T14:00:49.346930Z"
    },
    "papermill": {
     "duration": 0.061282,
     "end_time": "2022-01-30T14:00:49.347131",
     "exception": false,
     "start_time": "2022-01-30T14:00:49.285849",
     "status": "completed"
    },
    "tags": []
   },
   "outputs": [
    {
     "data": {
      "text/html": [
       "<div>\n",
       "<style scoped>\n",
       "    .dataframe tbody tr th:only-of-type {\n",
       "        vertical-align: middle;\n",
       "    }\n",
       "\n",
       "    .dataframe tbody tr th {\n",
       "        vertical-align: top;\n",
       "    }\n",
       "\n",
       "    .dataframe thead th {\n",
       "        text-align: right;\n",
       "    }\n",
       "</style>\n",
       "<table border=\"1\" class=\"dataframe\">\n",
       "  <thead>\n",
       "    <tr style=\"text-align: right;\">\n",
       "      <th></th>\n",
       "      <th>timestamp</th>\n",
       "      <th>Asset_ID</th>\n",
       "      <th>Close</th>\n",
       "      <th>Target</th>\n",
       "    </tr>\n",
       "  </thead>\n",
       "  <tbody>\n",
       "    <tr>\n",
       "      <th>0</th>\n",
       "      <td>1514764860</td>\n",
       "      <td>2</td>\n",
       "      <td>2374.5900</td>\n",
       "      <td>-0.004218</td>\n",
       "    </tr>\n",
       "    <tr>\n",
       "      <th>1</th>\n",
       "      <td>1514764860</td>\n",
       "      <td>0</td>\n",
       "      <td>8.5300</td>\n",
       "      <td>-0.014399</td>\n",
       "    </tr>\n",
       "    <tr>\n",
       "      <th>2</th>\n",
       "      <td>1514764860</td>\n",
       "      <td>1</td>\n",
       "      <td>13850.1760</td>\n",
       "      <td>-0.014643</td>\n",
       "    </tr>\n",
       "    <tr>\n",
       "      <th>3</th>\n",
       "      <td>1514764860</td>\n",
       "      <td>5</td>\n",
       "      <td>7.6576</td>\n",
       "      <td>-0.013922</td>\n",
       "    </tr>\n",
       "    <tr>\n",
       "      <th>4</th>\n",
       "      <td>1514764860</td>\n",
       "      <td>7</td>\n",
       "      <td>25.8770</td>\n",
       "      <td>-0.008264</td>\n",
       "    </tr>\n",
       "  </tbody>\n",
       "</table>\n",
       "</div>"
      ],
      "text/plain": [
       "    timestamp  Asset_ID       Close    Target\n",
       "0  1514764860         2   2374.5900 -0.004218\n",
       "1  1514764860         0      8.5300 -0.014399\n",
       "2  1514764860         1  13850.1760 -0.014643\n",
       "3  1514764860         5      7.6576 -0.013922\n",
       "4  1514764860         7     25.8770 -0.008264"
      ]
     },
     "execution_count": 7,
     "metadata": {},
     "output_type": "execute_result"
    }
   ],
   "source": [
    "df.head()"
   ]
  },
  {
   "cell_type": "code",
   "execution_count": 8,
   "id": "2b4ffc54",
   "metadata": {
    "execution": {
     "iopub.execute_input": "2022-01-30T14:00:49.449341Z",
     "iopub.status.busy": "2022-01-30T14:00:49.448674Z",
     "iopub.status.idle": "2022-01-30T14:00:49.457453Z",
     "shell.execute_reply": "2022-01-30T14:00:49.457980Z"
    },
    "papermill": {
     "duration": 0.061624,
     "end_time": "2022-01-30T14:00:49.458179",
     "exception": false,
     "start_time": "2022-01-30T14:00:49.396555",
     "status": "completed"
    },
    "tags": []
   },
   "outputs": [
    {
     "data": {
      "text/html": [
       "<div>\n",
       "<style scoped>\n",
       "    .dataframe tbody tr th:only-of-type {\n",
       "        vertical-align: middle;\n",
       "    }\n",
       "\n",
       "    .dataframe tbody tr th {\n",
       "        vertical-align: top;\n",
       "    }\n",
       "\n",
       "    .dataframe thead th {\n",
       "        text-align: right;\n",
       "    }\n",
       "</style>\n",
       "<table border=\"1\" class=\"dataframe\">\n",
       "  <thead>\n",
       "    <tr style=\"text-align: right;\">\n",
       "      <th></th>\n",
       "      <th>timestamp</th>\n",
       "      <th>Asset_ID</th>\n",
       "      <th>Close</th>\n",
       "      <th>Target</th>\n",
       "    </tr>\n",
       "  </thead>\n",
       "  <tbody>\n",
       "    <tr>\n",
       "      <th>24236801</th>\n",
       "      <td>1632182400</td>\n",
       "      <td>9</td>\n",
       "      <td>156.943857</td>\n",
       "      <td>NaN</td>\n",
       "    </tr>\n",
       "    <tr>\n",
       "      <th>24236802</th>\n",
       "      <td>1632182400</td>\n",
       "      <td>10</td>\n",
       "      <td>2432.907467</td>\n",
       "      <td>NaN</td>\n",
       "    </tr>\n",
       "    <tr>\n",
       "      <th>24236803</th>\n",
       "      <td>1632182400</td>\n",
       "      <td>13</td>\n",
       "      <td>0.091349</td>\n",
       "      <td>NaN</td>\n",
       "    </tr>\n",
       "    <tr>\n",
       "      <th>24236804</th>\n",
       "      <td>1632182400</td>\n",
       "      <td>12</td>\n",
       "      <td>0.282051</td>\n",
       "      <td>NaN</td>\n",
       "    </tr>\n",
       "    <tr>\n",
       "      <th>24236805</th>\n",
       "      <td>1632182400</td>\n",
       "      <td>11</td>\n",
       "      <td>232.275000</td>\n",
       "      <td>NaN</td>\n",
       "    </tr>\n",
       "  </tbody>\n",
       "</table>\n",
       "</div>"
      ],
      "text/plain": [
       "           timestamp  Asset_ID        Close  Target\n",
       "24236801  1632182400         9   156.943857     NaN\n",
       "24236802  1632182400        10  2432.907467     NaN\n",
       "24236803  1632182400        13     0.091349     NaN\n",
       "24236804  1632182400        12     0.282051     NaN\n",
       "24236805  1632182400        11   232.275000     NaN"
      ]
     },
     "execution_count": 8,
     "metadata": {},
     "output_type": "execute_result"
    }
   ],
   "source": [
    "df.tail()"
   ]
  },
  {
   "cell_type": "code",
   "execution_count": 9,
   "id": "b04658e1",
   "metadata": {
    "execution": {
     "iopub.execute_input": "2022-01-30T14:00:49.565418Z",
     "iopub.status.busy": "2022-01-30T14:00:49.564549Z",
     "iopub.status.idle": "2022-01-30T14:00:49.742955Z",
     "shell.execute_reply": "2022-01-30T14:00:49.742269Z"
    },
    "papermill": {
     "duration": 0.233877,
     "end_time": "2022-01-30T14:00:49.743126",
     "exception": false,
     "start_time": "2022-01-30T14:00:49.509249",
     "status": "completed"
    },
    "tags": []
   },
   "outputs": [
    {
     "data": {
      "text/plain": [
       "timestamp         0\n",
       "Asset_ID          0\n",
       "Close             0\n",
       "Target       750338\n",
       "dtype: int64"
      ]
     },
     "execution_count": 9,
     "metadata": {},
     "output_type": "execute_result"
    }
   ],
   "source": [
    "df.isnull().sum()"
   ]
  },
  {
   "cell_type": "code",
   "execution_count": 10,
   "id": "1bc59c66",
   "metadata": {
    "execution": {
     "iopub.execute_input": "2022-01-30T14:00:49.849189Z",
     "iopub.status.busy": "2022-01-30T14:00:49.848158Z",
     "iopub.status.idle": "2022-01-30T14:00:50.981764Z",
     "shell.execute_reply": "2022-01-30T14:00:50.981144Z"
    },
    "papermill": {
     "duration": 1.187787,
     "end_time": "2022-01-30T14:00:50.981931",
     "exception": false,
     "start_time": "2022-01-30T14:00:49.794144",
     "status": "completed"
    },
    "tags": []
   },
   "outputs": [],
   "source": [
    "df.dropna(subset = [\"Target\"], inplace=True)"
   ]
  },
  {
   "cell_type": "code",
   "execution_count": 11,
   "id": "95058a10",
   "metadata": {
    "execution": {
     "iopub.execute_input": "2022-01-30T14:00:51.088456Z",
     "iopub.status.busy": "2022-01-30T14:00:51.086555Z",
     "iopub.status.idle": "2022-01-30T14:00:51.091601Z",
     "shell.execute_reply": "2022-01-30T14:00:51.091039Z"
    },
    "papermill": {
     "duration": 0.058445,
     "end_time": "2022-01-30T14:00:51.091771",
     "exception": false,
     "start_time": "2022-01-30T14:00:51.033326",
     "status": "completed"
    },
    "tags": []
   },
   "outputs": [],
   "source": [
    "#df.dropna(subset = [\"VWAP\"], inplace=True)"
   ]
  },
  {
   "cell_type": "code",
   "execution_count": 12,
   "id": "a2d4b0b8",
   "metadata": {
    "execution": {
     "iopub.execute_input": "2022-01-30T14:00:51.197401Z",
     "iopub.status.busy": "2022-01-30T14:00:51.196742Z",
     "iopub.status.idle": "2022-01-30T14:00:51.198394Z",
     "shell.execute_reply": "2022-01-30T14:00:51.198899Z"
    },
    "papermill": {
     "duration": 0.057001,
     "end_time": "2022-01-30T14:00:51.199074",
     "exception": false,
     "start_time": "2022-01-30T14:00:51.142073",
     "status": "completed"
    },
    "tags": []
   },
   "outputs": [],
   "source": [
    "#df.dropna(subset = [\"Target\"], inplace=True)"
   ]
  },
  {
   "cell_type": "code",
   "execution_count": 13,
   "id": "d42b3e43",
   "metadata": {
    "execution": {
     "iopub.execute_input": "2022-01-30T14:00:51.303070Z",
     "iopub.status.busy": "2022-01-30T14:00:51.302431Z",
     "iopub.status.idle": "2022-01-30T14:00:51.487085Z",
     "shell.execute_reply": "2022-01-30T14:00:51.486443Z"
    },
    "papermill": {
     "duration": 0.237869,
     "end_time": "2022-01-30T14:00:51.487233",
     "exception": false,
     "start_time": "2022-01-30T14:00:51.249364",
     "status": "completed"
    },
    "tags": []
   },
   "outputs": [
    {
     "data": {
      "text/plain": [
       "timestamp    0\n",
       "Asset_ID     0\n",
       "Close        0\n",
       "Target       0\n",
       "dtype: int64"
      ]
     },
     "execution_count": 13,
     "metadata": {},
     "output_type": "execute_result"
    }
   ],
   "source": [
    "df.isnull().sum()"
   ]
  },
  {
   "cell_type": "code",
   "execution_count": 14,
   "id": "53cced2f",
   "metadata": {
    "execution": {
     "iopub.execute_input": "2022-01-30T14:00:51.594145Z",
     "iopub.status.busy": "2022-01-30T14:00:51.593503Z",
     "iopub.status.idle": "2022-01-30T14:00:51.604577Z",
     "shell.execute_reply": "2022-01-30T14:00:51.605174Z"
    },
    "papermill": {
     "duration": 0.066756,
     "end_time": "2022-01-30T14:00:51.605337",
     "exception": false,
     "start_time": "2022-01-30T14:00:51.538581",
     "status": "completed"
    },
    "tags": []
   },
   "outputs": [
    {
     "data": {
      "text/html": [
       "<div>\n",
       "<style scoped>\n",
       "    .dataframe tbody tr th:only-of-type {\n",
       "        vertical-align: middle;\n",
       "    }\n",
       "\n",
       "    .dataframe tbody tr th {\n",
       "        vertical-align: top;\n",
       "    }\n",
       "\n",
       "    .dataframe thead th {\n",
       "        text-align: right;\n",
       "    }\n",
       "</style>\n",
       "<table border=\"1\" class=\"dataframe\">\n",
       "  <thead>\n",
       "    <tr style=\"text-align: right;\">\n",
       "      <th></th>\n",
       "      <th>timestamp</th>\n",
       "      <th>Asset_ID</th>\n",
       "      <th>Close</th>\n",
       "      <th>Target</th>\n",
       "    </tr>\n",
       "  </thead>\n",
       "  <tbody>\n",
       "    <tr>\n",
       "      <th>0</th>\n",
       "      <td>1514764860</td>\n",
       "      <td>2</td>\n",
       "      <td>2374.5900</td>\n",
       "      <td>-0.004218</td>\n",
       "    </tr>\n",
       "    <tr>\n",
       "      <th>1</th>\n",
       "      <td>1514764860</td>\n",
       "      <td>0</td>\n",
       "      <td>8.5300</td>\n",
       "      <td>-0.014399</td>\n",
       "    </tr>\n",
       "    <tr>\n",
       "      <th>2</th>\n",
       "      <td>1514764860</td>\n",
       "      <td>1</td>\n",
       "      <td>13850.1760</td>\n",
       "      <td>-0.014643</td>\n",
       "    </tr>\n",
       "    <tr>\n",
       "      <th>3</th>\n",
       "      <td>1514764860</td>\n",
       "      <td>5</td>\n",
       "      <td>7.6576</td>\n",
       "      <td>-0.013922</td>\n",
       "    </tr>\n",
       "    <tr>\n",
       "      <th>4</th>\n",
       "      <td>1514764860</td>\n",
       "      <td>7</td>\n",
       "      <td>25.8770</td>\n",
       "      <td>-0.008264</td>\n",
       "    </tr>\n",
       "  </tbody>\n",
       "</table>\n",
       "</div>"
      ],
      "text/plain": [
       "    timestamp  Asset_ID       Close    Target\n",
       "0  1514764860         2   2374.5900 -0.004218\n",
       "1  1514764860         0      8.5300 -0.014399\n",
       "2  1514764860         1  13850.1760 -0.014643\n",
       "3  1514764860         5      7.6576 -0.013922\n",
       "4  1514764860         7     25.8770 -0.008264"
      ]
     },
     "execution_count": 14,
     "metadata": {},
     "output_type": "execute_result"
    }
   ],
   "source": [
    "#df1=df.reset_index()[['Close','timestamp']]\n",
    "df1=df#[['timestamp','Close','VWAP','Asset_ID','Target']]\n",
    "df1.head()"
   ]
  },
  {
   "cell_type": "code",
   "execution_count": 15,
   "id": "649eec09",
   "metadata": {
    "execution": {
     "iopub.execute_input": "2022-01-30T14:00:51.714749Z",
     "iopub.status.busy": "2022-01-30T14:00:51.714014Z",
     "iopub.status.idle": "2022-01-30T14:00:51.738218Z",
     "shell.execute_reply": "2022-01-30T14:00:51.738787Z"
    },
    "papermill": {
     "duration": 0.0813,
     "end_time": "2022-01-30T14:00:51.738969",
     "exception": false,
     "start_time": "2022-01-30T14:00:51.657669",
     "status": "completed"
    },
    "tags": []
   },
   "outputs": [
    {
     "data": {
      "text/html": [
       "<div>\n",
       "<style scoped>\n",
       "    .dataframe tbody tr th:only-of-type {\n",
       "        vertical-align: middle;\n",
       "    }\n",
       "\n",
       "    .dataframe tbody tr th {\n",
       "        vertical-align: top;\n",
       "    }\n",
       "\n",
       "    .dataframe thead th {\n",
       "        text-align: right;\n",
       "    }\n",
       "</style>\n",
       "<table border=\"1\" class=\"dataframe\">\n",
       "  <thead>\n",
       "    <tr style=\"text-align: right;\">\n",
       "      <th></th>\n",
       "      <th>timestamp</th>\n",
       "      <th>Asset_ID</th>\n",
       "      <th>Close</th>\n",
       "      <th>group_num</th>\n",
       "      <th>row_id</th>\n",
       "    </tr>\n",
       "  </thead>\n",
       "  <tbody>\n",
       "    <tr>\n",
       "      <th>0</th>\n",
       "      <td>1623542400</td>\n",
       "      <td>3</td>\n",
       "      <td>1.483681</td>\n",
       "      <td>0</td>\n",
       "      <td>0</td>\n",
       "    </tr>\n",
       "    <tr>\n",
       "      <th>1</th>\n",
       "      <td>1623542400</td>\n",
       "      <td>2</td>\n",
       "      <td>582.276667</td>\n",
       "      <td>0</td>\n",
       "      <td>1</td>\n",
       "    </tr>\n",
       "    <tr>\n",
       "      <th>2</th>\n",
       "      <td>1623542400</td>\n",
       "      <td>0</td>\n",
       "      <td>344.598000</td>\n",
       "      <td>0</td>\n",
       "      <td>2</td>\n",
       "    </tr>\n",
       "    <tr>\n",
       "      <th>3</th>\n",
       "      <td>1623542400</td>\n",
       "      <td>1</td>\n",
       "      <td>35602.004286</td>\n",
       "      <td>0</td>\n",
       "      <td>3</td>\n",
       "    </tr>\n",
       "    <tr>\n",
       "      <th>4</th>\n",
       "      <td>1623542400</td>\n",
       "      <td>4</td>\n",
       "      <td>0.312208</td>\n",
       "      <td>0</td>\n",
       "      <td>4</td>\n",
       "    </tr>\n",
       "  </tbody>\n",
       "</table>\n",
       "</div>"
      ],
      "text/plain": [
       "    timestamp  Asset_ID         Close  group_num  row_id\n",
       "0  1623542400         3      1.483681          0       0\n",
       "1  1623542400         2    582.276667          0       1\n",
       "2  1623542400         0    344.598000          0       2\n",
       "3  1623542400         1  35602.004286          0       3\n",
       "4  1623542400         4      0.312208          0       4"
      ]
     },
     "execution_count": 15,
     "metadata": {},
     "output_type": "execute_result"
    }
   ],
   "source": [
    "col_list = ['timestamp', 'Asset_ID','Close','row_id','group_num']\n",
    "testdf=pd.read_csv('../input/g-research-crypto-forecasting/example_test.csv', low_memory=False, \n",
    "                       dtype={'Asset_ID': 'int8', 'Count': 'int32', 'row_id': 'int32', 'Count': 'int32', \n",
    "                              'Open': 'float64', 'High': 'float64', 'Low': 'float64', 'Close': 'float64', \n",
    "                              'Volume': 'float64', 'VWAP': 'float64','group_num': 'int8'\n",
    "                             },usecols=col_list\n",
    "                      )\n",
    "testdf.head()"
   ]
  },
  {
   "cell_type": "code",
   "execution_count": 16,
   "id": "9796344f",
   "metadata": {
    "execution": {
     "iopub.execute_input": "2022-01-30T14:00:51.853963Z",
     "iopub.status.busy": "2022-01-30T14:00:51.853305Z",
     "iopub.status.idle": "2022-01-30T14:00:51.855972Z",
     "shell.execute_reply": "2022-01-30T14:00:51.856458Z"
    },
    "papermill": {
     "duration": 0.065125,
     "end_time": "2022-01-30T14:00:51.856628",
     "exception": false,
     "start_time": "2022-01-30T14:00:51.791503",
     "status": "completed"
    },
    "tags": []
   },
   "outputs": [
    {
     "data": {
      "text/plain": [
       "<bound method NDFrame.head of      timestamp  Asset_ID         Close  group_num  row_id\n",
       "0   1623542400         3      1.483681          0       0\n",
       "1   1623542400         2    582.276667          0       1\n",
       "2   1623542400         0    344.598000          0       2\n",
       "3   1623542400         1  35602.004286          0       3\n",
       "4   1623542400         4      0.312208          0       4\n",
       "5   1623542400         5      4.837583          0       5\n",
       "6   1623542400         7     55.344680          0       6\n",
       "7   1623542400         6   2374.380714          0       7\n",
       "8   1623542400         8      1.003300          0       8\n",
       "9   1623542400         9    162.214714          0       9\n",
       "10  1623542400        10   2947.078025          0      10\n",
       "11  1623542400        13      0.068158          0      11\n",
       "12  1623542400        12      0.328829          0      12\n",
       "13  1623542400        11    243.532500          0      13\n",
       "14  1623542460         3      1.482043          1      14\n",
       "15  1623542460         2    582.358333          1      15\n",
       "16  1623542460         0    344.089500          1      16\n",
       "17  1623542460         1  35555.397143          1      17\n",
       "18  1623542460         4      0.311847          1      18\n",
       "19  1623542460         5      4.838300          1      19\n",
       "20  1623542460         7     55.286400          1      20\n",
       "21  1623542460         6   2371.790000          1      21\n",
       "22  1623542460         8      1.001550          1      22\n",
       "23  1623542460         9    162.193000          1      23\n",
       "24  1623542460        10   2945.711900          1      24\n",
       "25  1623542460        13      0.068217          1      25\n",
       "26  1623542460        12      0.328563          1      26\n",
       "27  1623542460        11    243.330000          1      27\n",
       "28  1623542520         3      1.479259          2      28\n",
       "29  1623542520         2    580.540000          2      29\n",
       "30  1623542520         0    343.009500          2      30\n",
       "31  1623542520         1  35488.287500          2      31\n",
       "32  1623542520         4      0.311006          2      32\n",
       "33  1623542520         5      4.822080          2      33\n",
       "34  1623542520         7     55.026050          2      34\n",
       "35  1623542520         6   2365.590000          2      35\n",
       "36  1623542520         8      0.997500          2      36\n",
       "37  1623542520         9    161.829143          2      37\n",
       "38  1623542520        10   2933.232000          2      38\n",
       "39  1623542520        13      0.068025          2      39\n",
       "40  1623542520        12      0.327497          2      40\n",
       "41  1623542520        11    242.347500          2      41\n",
       "42  1623542580         3      1.473527          3      42\n",
       "43  1623542580         2    578.912000          3      43\n",
       "44  1623542580         0    342.325000          3      44\n",
       "45  1623542580         1  35423.490000          3      45\n",
       "46  1623542580         4      0.310676          3      46\n",
       "47  1623542580         5      4.813450          3      47\n",
       "48  1623542580         7     54.940950          3      48\n",
       "49  1623542580         6   2360.505714          3      49\n",
       "50  1623542580         8      0.991000          3      50\n",
       "51  1623542580         9    161.485000          3      51\n",
       "52  1623542580        10   2925.073700          3      52\n",
       "53  1623542580        13      0.067936          3      53\n",
       "54  1623542580        12      0.326406          3      54\n",
       "55  1623542580        11    242.074000          3      55>"
      ]
     },
     "execution_count": 16,
     "metadata": {},
     "output_type": "execute_result"
    }
   ],
   "source": [
    "testdf.head"
   ]
  },
  {
   "cell_type": "code",
   "execution_count": null,
   "id": "d6ae5f50",
   "metadata": {
    "papermill": {
     "duration": 0.053155,
     "end_time": "2022-01-30T14:00:51.963043",
     "exception": false,
     "start_time": "2022-01-30T14:00:51.909888",
     "status": "completed"
    },
    "tags": []
   },
   "outputs": [],
   "source": []
  },
  {
   "cell_type": "code",
   "execution_count": 17,
   "id": "79569adb",
   "metadata": {
    "execution": {
     "iopub.execute_input": "2022-01-30T14:00:52.074605Z",
     "iopub.status.busy": "2022-01-30T14:00:52.073947Z",
     "iopub.status.idle": "2022-01-30T14:00:52.083488Z",
     "shell.execute_reply": "2022-01-30T14:00:52.083975Z"
    },
    "papermill": {
     "duration": 0.068495,
     "end_time": "2022-01-30T14:00:52.084137",
     "exception": false,
     "start_time": "2022-01-30T14:00:52.015642",
     "status": "completed"
    },
    "tags": []
   },
   "outputs": [
    {
     "data": {
      "text/html": [
       "<div>\n",
       "<style scoped>\n",
       "    .dataframe tbody tr th:only-of-type {\n",
       "        vertical-align: middle;\n",
       "    }\n",
       "\n",
       "    .dataframe tbody tr th {\n",
       "        vertical-align: top;\n",
       "    }\n",
       "\n",
       "    .dataframe thead th {\n",
       "        text-align: right;\n",
       "    }\n",
       "</style>\n",
       "<table border=\"1\" class=\"dataframe\">\n",
       "  <thead>\n",
       "    <tr style=\"text-align: right;\">\n",
       "      <th></th>\n",
       "      <th>timestamp</th>\n",
       "      <th>Asset_ID</th>\n",
       "      <th>Close</th>\n",
       "      <th>Target</th>\n",
       "    </tr>\n",
       "  </thead>\n",
       "  <tbody>\n",
       "    <tr>\n",
       "      <th>0</th>\n",
       "      <td>1514764860</td>\n",
       "      <td>2</td>\n",
       "      <td>2374.59</td>\n",
       "      <td>-0.004218</td>\n",
       "    </tr>\n",
       "    <tr>\n",
       "      <th>1</th>\n",
       "      <td>1514764860</td>\n",
       "      <td>0</td>\n",
       "      <td>8.53</td>\n",
       "      <td>-0.014399</td>\n",
       "    </tr>\n",
       "  </tbody>\n",
       "</table>\n",
       "</div>"
      ],
      "text/plain": [
       "    timestamp  Asset_ID    Close    Target\n",
       "0  1514764860         2  2374.59 -0.004218\n",
       "1  1514764860         0     8.53 -0.014399"
      ]
     },
     "execution_count": 17,
     "metadata": {},
     "output_type": "execute_result"
    }
   ],
   "source": [
    "df1.head(2)"
   ]
  },
  {
   "cell_type": "code",
   "execution_count": 18,
   "id": "bce64720",
   "metadata": {
    "execution": {
     "iopub.execute_input": "2022-01-30T14:00:52.196483Z",
     "iopub.status.busy": "2022-01-30T14:00:52.195521Z",
     "iopub.status.idle": "2022-01-30T14:00:52.198690Z",
     "shell.execute_reply": "2022-01-30T14:00:52.198170Z"
    },
    "papermill": {
     "duration": 0.061308,
     "end_time": "2022-01-30T14:00:52.198847",
     "exception": false,
     "start_time": "2022-01-30T14:00:52.137539",
     "status": "completed"
    },
    "tags": []
   },
   "outputs": [],
   "source": [
    "train=df1.iloc[:15266204]"
   ]
  },
  {
   "cell_type": "code",
   "execution_count": 19,
   "id": "7633d709",
   "metadata": {
    "execution": {
     "iopub.execute_input": "2022-01-30T14:00:52.310699Z",
     "iopub.status.busy": "2022-01-30T14:00:52.310013Z",
     "iopub.status.idle": "2022-01-30T14:00:52.311942Z",
     "shell.execute_reply": "2022-01-30T14:00:52.312460Z"
    },
    "papermill": {
     "duration": 0.060333,
     "end_time": "2022-01-30T14:00:52.312632",
     "exception": false,
     "start_time": "2022-01-30T14:00:52.252299",
     "status": "completed"
    },
    "tags": []
   },
   "outputs": [],
   "source": [
    "test=df1.iloc[15266204:]"
   ]
  },
  {
   "cell_type": "code",
   "execution_count": 20,
   "id": "c7958706",
   "metadata": {
    "execution": {
     "iopub.execute_input": "2022-01-30T14:00:52.627115Z",
     "iopub.status.busy": "2022-01-30T14:00:52.576311Z",
     "iopub.status.idle": "2022-01-30T14:00:52.630718Z",
     "shell.execute_reply": "2022-01-30T14:00:52.630036Z"
    },
    "papermill": {
     "duration": 0.264541,
     "end_time": "2022-01-30T14:00:52.630874",
     "exception": false,
     "start_time": "2022-01-30T14:00:52.366333",
     "status": "completed"
    },
    "tags": []
   },
   "outputs": [],
   "source": [
    "X_train1=train.iloc[:, :3]\n",
    "y_train=train.iloc[:, -1:]"
   ]
  },
  {
   "cell_type": "code",
   "execution_count": 21,
   "id": "8b4eb167",
   "metadata": {
    "execution": {
     "iopub.execute_input": "2022-01-30T14:00:52.865678Z",
     "iopub.status.busy": "2022-01-30T14:00:52.864960Z",
     "iopub.status.idle": "2022-01-30T14:00:52.867611Z",
     "shell.execute_reply": "2022-01-30T14:00:52.867097Z"
    },
    "papermill": {
     "duration": 0.183245,
     "end_time": "2022-01-30T14:00:52.867766",
     "exception": false,
     "start_time": "2022-01-30T14:00:52.684521",
     "status": "completed"
    },
    "tags": []
   },
   "outputs": [],
   "source": [
    "X_test1=test.iloc[:, :3]\n",
    "y_test=test.iloc[:, -1:]"
   ]
  },
  {
   "cell_type": "code",
   "execution_count": 22,
   "id": "fd4e5bba",
   "metadata": {
    "execution": {
     "iopub.execute_input": "2022-01-30T14:00:52.982644Z",
     "iopub.status.busy": "2022-01-30T14:00:52.981860Z",
     "iopub.status.idle": "2022-01-30T14:00:52.985039Z",
     "shell.execute_reply": "2022-01-30T14:00:52.984345Z"
    },
    "papermill": {
     "duration": 0.062572,
     "end_time": "2022-01-30T14:00:52.985197",
     "exception": false,
     "start_time": "2022-01-30T14:00:52.922625",
     "status": "completed"
    },
    "tags": []
   },
   "outputs": [],
   "source": [
    "#np.isnan(df1.any()) #and gets False\n"
   ]
  },
  {
   "cell_type": "code",
   "execution_count": 23,
   "id": "bc904cde",
   "metadata": {
    "execution": {
     "iopub.execute_input": "2022-01-30T14:00:53.099986Z",
     "iopub.status.busy": "2022-01-30T14:00:53.099324Z",
     "iopub.status.idle": "2022-01-30T14:00:53.100974Z",
     "shell.execute_reply": "2022-01-30T14:00:53.101424Z"
    },
    "papermill": {
     "duration": 0.062323,
     "end_time": "2022-01-30T14:00:53.101620",
     "exception": false,
     "start_time": "2022-01-30T14:00:53.039297",
     "status": "completed"
    },
    "tags": []
   },
   "outputs": [],
   "source": [
    "#np.isfinite(df1.all()) #and gets True"
   ]
  },
  {
   "cell_type": "code",
   "execution_count": 24,
   "id": "9d0136ca",
   "metadata": {
    "execution": {
     "iopub.execute_input": "2022-01-30T14:00:53.215284Z",
     "iopub.status.busy": "2022-01-30T14:00:53.214640Z",
     "iopub.status.idle": "2022-01-30T14:00:53.217838Z",
     "shell.execute_reply": "2022-01-30T14:00:53.218462Z"
    },
    "papermill": {
     "duration": 0.061967,
     "end_time": "2022-01-30T14:00:53.218648",
     "exception": false,
     "start_time": "2022-01-30T14:00:53.156681",
     "status": "completed"
    },
    "tags": []
   },
   "outputs": [],
   "source": [
    "#df1[np.isfinite(df1) == True] = 0"
   ]
  },
  {
   "cell_type": "code",
   "execution_count": 25,
   "id": "006df691",
   "metadata": {
    "execution": {
     "iopub.execute_input": "2022-01-30T14:00:53.330433Z",
     "iopub.status.busy": "2022-01-30T14:00:53.329770Z",
     "iopub.status.idle": "2022-01-30T14:00:55.481511Z",
     "shell.execute_reply": "2022-01-30T14:00:55.482098Z"
    },
    "papermill": {
     "duration": 2.209592,
     "end_time": "2022-01-30T14:00:55.482305",
     "exception": false,
     "start_time": "2022-01-30T14:00:53.272713",
     "status": "completed"
    },
    "tags": []
   },
   "outputs": [],
   "source": [
    "from sklearn.preprocessing import MinMaxScaler\n",
    "scaler=MinMaxScaler(feature_range=(0,1))\n",
    "X_train=scaler.fit_transform(np.array(X_train1))\n",
    "X_test=scaler.fit_transform(np.array(X_test1))\n",
    "\n"
   ]
  },
  {
   "cell_type": "code",
   "execution_count": 26,
   "id": "eef789aa",
   "metadata": {
    "execution": {
     "iopub.execute_input": "2022-01-30T14:00:55.595630Z",
     "iopub.status.busy": "2022-01-30T14:00:55.594885Z",
     "iopub.status.idle": "2022-01-30T14:00:55.599813Z",
     "shell.execute_reply": "2022-01-30T14:00:55.600315Z"
    },
    "papermill": {
     "duration": 0.06308,
     "end_time": "2022-01-30T14:00:55.600526",
     "exception": false,
     "start_time": "2022-01-30T14:00:55.537446",
     "status": "completed"
    },
    "tags": []
   },
   "outputs": [
    {
     "data": {
      "text/plain": [
       "array([[0.00000000e+00, 1.53846154e-01, 1.38225186e-01],\n",
       "       [0.00000000e+00, 0.00000000e+00, 4.96464442e-04],\n",
       "       [0.00000000e+00, 7.69230769e-02, 8.06220836e-01],\n",
       "       ...,\n",
       "       [9.99999266e-01, 8.46153846e-01, 5.06334222e-03],\n",
       "       [1.00000000e+00, 2.30769231e-01, 8.42871997e-06],\n",
       "       [1.00000000e+00, 1.53846154e-01, 1.68800039e-02]])"
      ]
     },
     "execution_count": 26,
     "metadata": {},
     "output_type": "execute_result"
    }
   ],
   "source": [
    "X_train"
   ]
  },
  {
   "cell_type": "code",
   "execution_count": 27,
   "id": "43061753",
   "metadata": {
    "execution": {
     "iopub.execute_input": "2022-01-30T14:00:55.714390Z",
     "iopub.status.busy": "2022-01-30T14:00:55.713684Z",
     "iopub.status.idle": "2022-01-30T14:00:55.723608Z",
     "shell.execute_reply": "2022-01-30T14:00:55.724200Z"
    },
    "papermill": {
     "duration": 0.068148,
     "end_time": "2022-01-30T14:00:55.724385",
     "exception": false,
     "start_time": "2022-01-30T14:00:55.656237",
     "status": "completed"
    },
    "tags": []
   },
   "outputs": [
    {
     "data": {
      "text/html": [
       "<div>\n",
       "<style scoped>\n",
       "    .dataframe tbody tr th:only-of-type {\n",
       "        vertical-align: middle;\n",
       "    }\n",
       "\n",
       "    .dataframe tbody tr th {\n",
       "        vertical-align: top;\n",
       "    }\n",
       "\n",
       "    .dataframe thead th {\n",
       "        text-align: right;\n",
       "    }\n",
       "</style>\n",
       "<table border=\"1\" class=\"dataframe\">\n",
       "  <thead>\n",
       "    <tr style=\"text-align: right;\">\n",
       "      <th></th>\n",
       "      <th>Target</th>\n",
       "    </tr>\n",
       "  </thead>\n",
       "  <tbody>\n",
       "    <tr>\n",
       "      <th>0</th>\n",
       "      <td>-0.004218</td>\n",
       "    </tr>\n",
       "    <tr>\n",
       "      <th>1</th>\n",
       "      <td>-0.014399</td>\n",
       "    </tr>\n",
       "    <tr>\n",
       "      <th>2</th>\n",
       "      <td>-0.014643</td>\n",
       "    </tr>\n",
       "    <tr>\n",
       "      <th>3</th>\n",
       "      <td>-0.013922</td>\n",
       "    </tr>\n",
       "    <tr>\n",
       "      <th>4</th>\n",
       "      <td>-0.008264</td>\n",
       "    </tr>\n",
       "    <tr>\n",
       "      <th>...</th>\n",
       "      <td>...</td>\n",
       "    </tr>\n",
       "    <tr>\n",
       "      <th>15962365</th>\n",
       "      <td>0.002686</td>\n",
       "    </tr>\n",
       "    <tr>\n",
       "      <th>15962366</th>\n",
       "      <td>0.005847</td>\n",
       "    </tr>\n",
       "    <tr>\n",
       "      <th>15962367</th>\n",
       "      <td>-0.000875</td>\n",
       "    </tr>\n",
       "    <tr>\n",
       "      <th>15962368</th>\n",
       "      <td>-0.001392</td>\n",
       "    </tr>\n",
       "    <tr>\n",
       "      <th>15962369</th>\n",
       "      <td>-0.003463</td>\n",
       "    </tr>\n",
       "  </tbody>\n",
       "</table>\n",
       "<p>15266204 rows × 1 columns</p>\n",
       "</div>"
      ],
      "text/plain": [
       "            Target\n",
       "0        -0.004218\n",
       "1        -0.014399\n",
       "2        -0.014643\n",
       "3        -0.013922\n",
       "4        -0.008264\n",
       "...            ...\n",
       "15962365  0.002686\n",
       "15962366  0.005847\n",
       "15962367 -0.000875\n",
       "15962368 -0.001392\n",
       "15962369 -0.003463\n",
       "\n",
       "[15266204 rows x 1 columns]"
      ]
     },
     "execution_count": 27,
     "metadata": {},
     "output_type": "execute_result"
    }
   ],
   "source": [
    "y_train"
   ]
  },
  {
   "cell_type": "code",
   "execution_count": 28,
   "id": "09347db3",
   "metadata": {
    "execution": {
     "iopub.execute_input": "2022-01-30T14:00:55.838487Z",
     "iopub.status.busy": "2022-01-30T14:00:55.837824Z",
     "iopub.status.idle": "2022-01-30T14:00:55.842509Z",
     "shell.execute_reply": "2022-01-30T14:00:55.843023Z"
    },
    "papermill": {
     "duration": 0.06346,
     "end_time": "2022-01-30T14:00:55.843223",
     "exception": false,
     "start_time": "2022-01-30T14:00:55.779763",
     "status": "completed"
    },
    "tags": []
   },
   "outputs": [
    {
     "data": {
      "text/plain": [
       "(23486468, 4)"
      ]
     },
     "execution_count": 28,
     "metadata": {},
     "output_type": "execute_result"
    }
   ],
   "source": [
    "df1.shape"
   ]
  },
  {
   "cell_type": "code",
   "execution_count": 29,
   "id": "6429cfb1",
   "metadata": {
    "execution": {
     "iopub.execute_input": "2022-01-30T14:00:55.959100Z",
     "iopub.status.busy": "2022-01-30T14:00:55.958457Z",
     "iopub.status.idle": "2022-01-30T14:00:55.962827Z",
     "shell.execute_reply": "2022-01-30T14:00:55.963439Z"
    },
    "jupyter": {
     "source_hidden": true
    },
    "papermill": {
     "duration": 0.063895,
     "end_time": "2022-01-30T14:00:55.963626",
     "exception": false,
     "start_time": "2022-01-30T14:00:55.899731",
     "status": "completed"
    },
    "tags": []
   },
   "outputs": [
    {
     "data": {
      "text/plain": [
       "'##splitting dataset into train and test split\\ntraining_size=int(len(df1)*0.65)\\ntest_size=len(df1)-training_size\\ntrain_data,test_data=df1[0:training_size,:],df1[training_size:len(df1),:]'"
      ]
     },
     "execution_count": 29,
     "metadata": {},
     "output_type": "execute_result"
    }
   ],
   "source": [
    "\"\"\"##splitting dataset into train and test split\n",
    "training_size=int(len(df1)*0.65)\n",
    "test_size=len(df1)-training_size\n",
    "train_data,test_data=df1[0:training_size,:],df1[training_size:len(df1),:]\"\"\""
   ]
  },
  {
   "cell_type": "code",
   "execution_count": 30,
   "id": "da1f6ca8",
   "metadata": {
    "execution": {
     "iopub.execute_input": "2022-01-30T14:00:56.080801Z",
     "iopub.status.busy": "2022-01-30T14:00:56.080119Z",
     "iopub.status.idle": "2022-01-30T14:00:56.084290Z",
     "shell.execute_reply": "2022-01-30T14:00:56.084894Z"
    },
    "papermill": {
     "duration": 0.064558,
     "end_time": "2022-01-30T14:00:56.085075",
     "exception": false,
     "start_time": "2022-01-30T14:00:56.020517",
     "status": "completed"
    },
    "tags": []
   },
   "outputs": [
    {
     "data": {
      "text/plain": [
       "'training_size,test_size'"
      ]
     },
     "execution_count": 30,
     "metadata": {},
     "output_type": "execute_result"
    }
   ],
   "source": [
    "\"\"\"training_size,test_size\"\"\""
   ]
  },
  {
   "cell_type": "code",
   "execution_count": 31,
   "id": "3f45ec2e",
   "metadata": {
    "execution": {
     "iopub.execute_input": "2022-01-30T14:00:56.201632Z",
     "iopub.status.busy": "2022-01-30T14:00:56.200973Z",
     "iopub.status.idle": "2022-01-30T14:00:56.203600Z",
     "shell.execute_reply": "2022-01-30T14:00:56.204186Z"
    },
    "papermill": {
     "duration": 0.062653,
     "end_time": "2022-01-30T14:00:56.204365",
     "exception": false,
     "start_time": "2022-01-30T14:00:56.141712",
     "status": "completed"
    },
    "tags": []
   },
   "outputs": [],
   "source": [
    "#train_data"
   ]
  },
  {
   "cell_type": "code",
   "execution_count": 32,
   "id": "d98867ab",
   "metadata": {
    "execution": {
     "iopub.execute_input": "2022-01-30T14:00:56.321424Z",
     "iopub.status.busy": "2022-01-30T14:00:56.320785Z",
     "iopub.status.idle": "2022-01-30T14:00:56.324719Z",
     "shell.execute_reply": "2022-01-30T14:00:56.325179Z"
    },
    "papermill": {
     "duration": 0.064175,
     "end_time": "2022-01-30T14:00:56.325364",
     "exception": false,
     "start_time": "2022-01-30T14:00:56.261189",
     "status": "completed"
    },
    "tags": []
   },
   "outputs": [],
   "source": [
    "#test_data"
   ]
  },
  {
   "cell_type": "code",
   "execution_count": 33,
   "id": "d9605368",
   "metadata": {
    "execution": {
     "iopub.execute_input": "2022-01-30T14:00:56.444957Z",
     "iopub.status.busy": "2022-01-30T14:00:56.444130Z",
     "iopub.status.idle": "2022-01-30T14:00:56.447043Z",
     "shell.execute_reply": "2022-01-30T14:00:56.446547Z"
    },
    "papermill": {
     "duration": 0.064264,
     "end_time": "2022-01-30T14:00:56.447188",
     "exception": false,
     "start_time": "2022-01-30T14:00:56.382924",
     "status": "completed"
    },
    "tags": []
   },
   "outputs": [],
   "source": [
    "#X_train ,y_train =train_data[:, [0,1,2]], train_data[:, [3]]\n",
    "#y_train = train_data[4] \n",
    "#X_test, ytest = test_data[:, [0,1,2]], test_data[:, [3]]\n"
   ]
  },
  {
   "cell_type": "code",
   "execution_count": 34,
   "id": "906bb79b",
   "metadata": {
    "execution": {
     "iopub.execute_input": "2022-01-30T14:00:56.568225Z",
     "iopub.status.busy": "2022-01-30T14:00:56.567367Z",
     "iopub.status.idle": "2022-01-30T14:00:56.571289Z",
     "shell.execute_reply": "2022-01-30T14:00:56.570775Z"
    },
    "papermill": {
     "duration": 0.066796,
     "end_time": "2022-01-30T14:00:56.571451",
     "exception": false,
     "start_time": "2022-01-30T14:00:56.504655",
     "status": "completed"
    },
    "tags": []
   },
   "outputs": [
    {
     "name": "stdout",
     "output_type": "stream",
     "text": [
      "X_train.shape (15266204, 3)\n",
      "y_train.shape (15266204, 1)\n"
     ]
    }
   ],
   "source": [
    "print('X_train.shape',X_train.shape)\n",
    "print('y_train.shape',y_train.shape)"
   ]
  },
  {
   "cell_type": "code",
   "execution_count": 35,
   "id": "e7f1ccfd",
   "metadata": {
    "execution": {
     "iopub.execute_input": "2022-01-30T14:00:56.690575Z",
     "iopub.status.busy": "2022-01-30T14:00:56.689947Z",
     "iopub.status.idle": "2022-01-30T14:00:56.692770Z",
     "shell.execute_reply": "2022-01-30T14:00:56.693327Z"
    },
    "papermill": {
     "duration": 0.064243,
     "end_time": "2022-01-30T14:00:56.693526",
     "exception": false,
     "start_time": "2022-01-30T14:00:56.629283",
     "status": "completed"
    },
    "tags": []
   },
   "outputs": [],
   "source": [
    "#print(test_data.shape)"
   ]
  },
  {
   "cell_type": "code",
   "execution_count": 36,
   "id": "66e54cf0",
   "metadata": {
    "execution": {
     "iopub.execute_input": "2022-01-30T14:00:56.812435Z",
     "iopub.status.busy": "2022-01-30T14:00:56.811805Z",
     "iopub.status.idle": "2022-01-30T14:00:56.818241Z",
     "shell.execute_reply": "2022-01-30T14:00:56.819103Z"
    },
    "papermill": {
     "duration": 0.068043,
     "end_time": "2022-01-30T14:00:56.819348",
     "exception": false,
     "start_time": "2022-01-30T14:00:56.751305",
     "status": "completed"
    },
    "tags": []
   },
   "outputs": [
    {
     "name": "stdout",
     "output_type": "stream",
     "text": [
      "(8220264, 3)\n",
      "(8220264, 1)\n"
     ]
    },
    {
     "data": {
      "text/plain": [
       "(None, None)"
      ]
     },
     "execution_count": 36,
     "metadata": {},
     "output_type": "execute_result"
    }
   ],
   "source": [
    "print(X_test.shape), print(y_test.shape)"
   ]
  },
  {
   "cell_type": "code",
   "execution_count": null,
   "id": "098008bb",
   "metadata": {
    "papermill": {
     "duration": 0.058658,
     "end_time": "2022-01-30T14:00:56.940095",
     "exception": false,
     "start_time": "2022-01-30T14:00:56.881437",
     "status": "completed"
    },
    "tags": []
   },
   "outputs": [],
   "source": []
  },
  {
   "cell_type": "code",
   "execution_count": 37,
   "id": "b7962aae",
   "metadata": {
    "execution": {
     "iopub.execute_input": "2022-01-30T14:00:57.062794Z",
     "iopub.status.busy": "2022-01-30T14:00:57.062122Z",
     "iopub.status.idle": "2022-01-30T14:00:57.067100Z",
     "shell.execute_reply": "2022-01-30T14:00:57.067614Z"
    },
    "papermill": {
     "duration": 0.068483,
     "end_time": "2022-01-30T14:00:57.067818",
     "exception": false,
     "start_time": "2022-01-30T14:00:56.999335",
     "status": "completed"
    },
    "tags": []
   },
   "outputs": [],
   "source": [
    "# reshape input to be [samples, time steps, features] which is required for LSTM\n",
    "X_train =X_train.reshape(X_train.shape[0],X_train.shape[1] , 1)\n",
    "X_test = X_test.reshape(X_test.shape[0],X_test.shape[1] , 1)"
   ]
  },
  {
   "cell_type": "code",
   "execution_count": 38,
   "id": "19eab9ae",
   "metadata": {
    "execution": {
     "iopub.execute_input": "2022-01-30T14:00:57.191966Z",
     "iopub.status.busy": "2022-01-30T14:00:57.191224Z",
     "iopub.status.idle": "2022-01-30T14:01:03.157123Z",
     "shell.execute_reply": "2022-01-30T14:01:03.156347Z"
    },
    "papermill": {
     "duration": 6.029622,
     "end_time": "2022-01-30T14:01:03.157272",
     "exception": false,
     "start_time": "2022-01-30T14:00:57.127650",
     "status": "completed"
    },
    "tags": []
   },
   "outputs": [],
   "source": [
    "### Create the Stacked LSTM model\n",
    "from tensorflow.keras.models import Sequential\n",
    "from tensorflow.keras.layers import Dense\n",
    "from tensorflow.keras.layers import LSTM"
   ]
  },
  {
   "cell_type": "code",
   "execution_count": 39,
   "id": "a1cf8221",
   "metadata": {
    "execution": {
     "iopub.execute_input": "2022-01-30T14:01:03.278236Z",
     "iopub.status.busy": "2022-01-30T14:01:03.277621Z",
     "iopub.status.idle": "2022-01-30T14:01:04.145134Z",
     "shell.execute_reply": "2022-01-30T14:01:04.144095Z"
    },
    "papermill": {
     "duration": 0.929398,
     "end_time": "2022-01-30T14:01:04.145299",
     "exception": false,
     "start_time": "2022-01-30T14:01:03.215901",
     "status": "completed"
    },
    "tags": []
   },
   "outputs": [
    {
     "name": "stderr",
     "output_type": "stream",
     "text": [
      "\n",
      "User settings:\n",
      "\n",
      "   KMP_AFFINITY=granularity=fine,verbose,compact,1,0\n",
      "   KMP_BLOCKTIME=0\n",
      "   KMP_DUPLICATE_LIB_OK=True\n",
      "   KMP_INIT_AT_FORK=FALSE\n",
      "   KMP_SETTINGS=1\n",
      "   KMP_WARNINGS=0\n",
      "\n",
      "Effective settings:\n",
      "\n",
      "   KMP_ABORT_DELAY=0\n",
      "   KMP_ADAPTIVE_LOCK_PROPS='1,1024'\n",
      "   KMP_ALIGN_ALLOC=64\n",
      "   KMP_ALL_THREADPRIVATE=128\n",
      "   KMP_ATOMIC_MODE=2\n",
      "   KMP_BLOCKTIME=0\n",
      "   KMP_CPUINFO_FILE: value is not defined\n",
      "   KMP_DETERMINISTIC_REDUCTION=false\n",
      "   KMP_DEVICE_THREAD_LIMIT=2147483647\n",
      "   KMP_DISP_NUM_BUFFERS=7\n",
      "   KMP_DUPLICATE_LIB_OK=true\n",
      "   KMP_ENABLE_TASK_THROTTLING=true\n",
      "   KMP_FORCE_REDUCTION: value is not defined\n",
      "   KMP_FOREIGN_THREADS_THREADPRIVATE=true\n",
      "   KMP_FORKJOIN_BARRIER='2,2'\n",
      "   KMP_FORKJOIN_BARRIER_PATTERN='hyper,hyper'\n",
      "   KMP_GTID_MODE=3\n",
      "   KMP_HANDLE_SIGNALS=false\n",
      "   KMP_HOT_TEAMS_MAX_LEVEL=1\n",
      "   KMP_HOT_TEAMS_MODE=0\n",
      "   KMP_INIT_AT_FORK=true\n",
      "   KMP_LIBRARY=throughput\n",
      "   KMP_LOCK_KIND=queuing\n",
      "   KMP_MALLOC_POOL_INCR=1M\n",
      "   KMP_NUM_LOCKS_IN_BLOCK=1\n",
      "   KMP_PLAIN_BARRIER='2,2'\n",
      "   KMP_PLAIN_BARRIER_PATTERN='hyper,hyper'\n",
      "   KMP_REDUCTION_BARRIER='1,1'\n",
      "   KMP_REDUCTION_BARRIER_PATTERN='hyper,hyper'\n",
      "   KMP_SCHEDULE='static,balanced;guided,iterative'\n",
      "   KMP_SETTINGS=true\n",
      "   KMP_SPIN_BACKOFF_PARAMS='4096,100'\n",
      "   KMP_STACKOFFSET=64\n",
      "   KMP_STACKPAD=0\n",
      "   KMP_STACKSIZE=8M\n",
      "   KMP_STORAGE_MAP=false\n",
      "   KMP_TASKING=2\n",
      "   KMP_TASKLOOP_MIN_TASKS=0\n",
      "   KMP_TASK_STEALING_CONSTRAINT=1\n",
      "   KMP_TEAMS_THREAD_LIMIT=4\n",
      "   KMP_TOPOLOGY_METHOD=all\n",
      "   KMP_USE_YIELD=1\n",
      "   KMP_VERSION=false\n",
      "   KMP_WARNINGS=false\n",
      "   OMP_AFFINITY_FORMAT='OMP: pid %P tid %i thread %n bound to OS proc set {%A}'\n",
      "   OMP_ALLOCATOR=omp_default_mem_alloc\n",
      "   OMP_CANCELLATION=false\n",
      "   OMP_DEFAULT_DEVICE=0\n",
      "   OMP_DISPLAY_AFFINITY=false\n",
      "   OMP_DISPLAY_ENV=false\n",
      "   OMP_DYNAMIC=false\n",
      "   OMP_MAX_ACTIVE_LEVELS=1\n",
      "   OMP_MAX_TASK_PRIORITY=0\n",
      "   OMP_NESTED: deprecated; max-active-levels-var=1\n",
      "   OMP_NUM_THREADS: value is not defined\n",
      "   OMP_PLACES: value is not defined\n",
      "   OMP_PROC_BIND='intel'\n",
      "   OMP_SCHEDULE='static'\n",
      "   OMP_STACKSIZE=8M\n",
      "   OMP_TARGET_OFFLOAD=DEFAULT\n",
      "   OMP_THREAD_LIMIT=2147483647\n",
      "   OMP_WAIT_POLICY=PASSIVE\n",
      "   KMP_AFFINITY='verbose,warnings,respect,granularity=fine,compact,1,0'\n",
      "\n",
      "2022-01-30 14:01:03.314720: I tensorflow/core/common_runtime/process_util.cc:146] Creating new thread pool with default inter op setting: 2. Tune using inter_op_parallelism_threads for best performance.\n"
     ]
    }
   ],
   "source": [
    "model=Sequential()\n",
    "model.add(LSTM(50,return_sequences=True,input_shape=(3,1)))\n",
    "model.add(LSTM(50,return_sequences=True))\n",
    "model.add(LSTM(50))\n",
    "model.add(Dense(1))\n",
    "model.compile(loss='mean_squared_error',optimizer='adam')"
   ]
  },
  {
   "cell_type": "code",
   "execution_count": 40,
   "id": "f1a1537a",
   "metadata": {
    "execution": {
     "iopub.execute_input": "2022-01-30T14:01:04.269425Z",
     "iopub.status.busy": "2022-01-30T14:01:04.268788Z",
     "iopub.status.idle": "2022-01-30T14:01:04.275850Z",
     "shell.execute_reply": "2022-01-30T14:01:04.276656Z"
    },
    "papermill": {
     "duration": 0.070755,
     "end_time": "2022-01-30T14:01:04.276912",
     "exception": false,
     "start_time": "2022-01-30T14:01:04.206157",
     "status": "completed"
    },
    "tags": []
   },
   "outputs": [
    {
     "name": "stdout",
     "output_type": "stream",
     "text": [
      "Model: \"sequential\"\n",
      "_________________________________________________________________\n",
      "Layer (type)                 Output Shape              Param #   \n",
      "=================================================================\n",
      "lstm (LSTM)                  (None, 3, 50)             10400     \n",
      "_________________________________________________________________\n",
      "lstm_1 (LSTM)                (None, 3, 50)             20200     \n",
      "_________________________________________________________________\n",
      "lstm_2 (LSTM)                (None, 50)                20200     \n",
      "_________________________________________________________________\n",
      "dense (Dense)                (None, 1)                 51        \n",
      "=================================================================\n",
      "Total params: 50,851\n",
      "Trainable params: 50,851\n",
      "Non-trainable params: 0\n",
      "_________________________________________________________________\n"
     ]
    }
   ],
   "source": [
    "model.summary()"
   ]
  },
  {
   "cell_type": "code",
   "execution_count": 41,
   "id": "962a7e6e",
   "metadata": {
    "execution": {
     "iopub.execute_input": "2022-01-30T14:01:04.402867Z",
     "iopub.status.busy": "2022-01-30T14:01:04.402183Z",
     "iopub.status.idle": "2022-01-30T14:01:04.409885Z",
     "shell.execute_reply": "2022-01-30T14:01:04.410424Z"
    },
    "papermill": {
     "duration": 0.072367,
     "end_time": "2022-01-30T14:01:04.410630",
     "exception": false,
     "start_time": "2022-01-30T14:01:04.338263",
     "status": "completed"
    },
    "tags": []
   },
   "outputs": [
    {
     "name": "stdout",
     "output_type": "stream",
     "text": [
      "Model: \"sequential\"\n",
      "_________________________________________________________________\n",
      "Layer (type)                 Output Shape              Param #   \n",
      "=================================================================\n",
      "lstm (LSTM)                  (None, 3, 50)             10400     \n",
      "_________________________________________________________________\n",
      "lstm_1 (LSTM)                (None, 3, 50)             20200     \n",
      "_________________________________________________________________\n",
      "lstm_2 (LSTM)                (None, 50)                20200     \n",
      "_________________________________________________________________\n",
      "dense (Dense)                (None, 1)                 51        \n",
      "=================================================================\n",
      "Total params: 50,851\n",
      "Trainable params: 50,851\n",
      "Non-trainable params: 0\n",
      "_________________________________________________________________\n"
     ]
    }
   ],
   "source": [
    "model.summary()"
   ]
  },
  {
   "cell_type": "code",
   "execution_count": 42,
   "id": "c92e2115",
   "metadata": {
    "execution": {
     "iopub.execute_input": "2022-01-30T14:01:04.558894Z",
     "iopub.status.busy": "2022-01-30T14:01:04.558180Z",
     "iopub.status.idle": "2022-01-30T15:05:31.964558Z",
     "shell.execute_reply": "2022-01-30T15:05:31.963854Z"
    },
    "papermill": {
     "duration": 3867.491703,
     "end_time": "2022-01-30T15:05:31.964811",
     "exception": false,
     "start_time": "2022-01-30T14:01:04.473108",
     "status": "completed"
    },
    "tags": []
   },
   "outputs": [
    {
     "name": "stderr",
     "output_type": "stream",
     "text": [
      "2022-01-30 14:01:05.112280: I tensorflow/compiler/mlir/mlir_graph_optimization_pass.cc:185] None of the MLIR Optimization Passes are enabled (registered 2)\n"
     ]
    },
    {
     "name": "stdout",
     "output_type": "stream",
     "text": [
      "238535/238535 [==============================] - 3848s 16ms/step - loss: 2.9829e-05 - val_loss: 3.7313e-05\n"
     ]
    },
    {
     "data": {
      "text/plain": [
       "<keras.callbacks.History at 0x7f464c3d2a90>"
      ]
     },
     "execution_count": 42,
     "metadata": {},
     "output_type": "execute_result"
    }
   ],
   "source": [
    "model.fit(X_train,y_train,validation_data=(X_test,y_test),epochs=1,batch_size=64,verbose=1)"
   ]
  },
  {
   "cell_type": "code",
   "execution_count": 43,
   "id": "20286062",
   "metadata": {
    "execution": {
     "iopub.execute_input": "2022-01-30T15:06:09.953977Z",
     "iopub.status.busy": "2022-01-30T15:06:09.952771Z",
     "iopub.status.idle": "2022-01-30T15:06:09.961166Z",
     "shell.execute_reply": "2022-01-30T15:06:09.961813Z"
    },
    "papermill": {
     "duration": 19.163555,
     "end_time": "2022-01-30T15:06:09.962009",
     "exception": false,
     "start_time": "2022-01-30T15:05:50.798454",
     "status": "completed"
    },
    "tags": []
   },
   "outputs": [
    {
     "data": {
      "text/plain": [
       "'2.6.2'"
      ]
     },
     "execution_count": 43,
     "metadata": {},
     "output_type": "execute_result"
    }
   ],
   "source": [
    "import tensorflow as tf\n",
    "tf.__version__"
   ]
  },
  {
   "cell_type": "code",
   "execution_count": 44,
   "id": "ca550fbf",
   "metadata": {
    "execution": {
     "iopub.execute_input": "2022-01-30T15:06:48.081235Z",
     "iopub.status.busy": "2022-01-30T15:06:48.080617Z",
     "iopub.status.idle": "2022-01-30T15:06:48.082358Z",
     "shell.execute_reply": "2022-01-30T15:06:48.082955Z"
    },
    "papermill": {
     "duration": 18.943393,
     "end_time": "2022-01-30T15:06:48.083125",
     "exception": false,
     "start_time": "2022-01-30T15:06:29.139732",
     "status": "completed"
    },
    "tags": []
   },
   "outputs": [],
   "source": [
    "### Lets Do the prediction and check performance metrics\n",
    "#train_predict=model.predict(X_train)\n",
    "#test_predict=model.predict(X_test)"
   ]
  },
  {
   "cell_type": "code",
   "execution_count": 45,
   "id": "80f05f9d",
   "metadata": {
    "execution": {
     "iopub.execute_input": "2022-01-30T15:07:25.755799Z",
     "iopub.status.busy": "2022-01-30T15:07:25.755137Z",
     "iopub.status.idle": "2022-01-30T15:07:25.757520Z",
     "shell.execute_reply": "2022-01-30T15:07:25.757003Z"
    },
    "papermill": {
     "duration": 18.942726,
     "end_time": "2022-01-30T15:07:25.757675",
     "exception": false,
     "start_time": "2022-01-30T15:07:06.814949",
     "status": "completed"
    },
    "tags": []
   },
   "outputs": [],
   "source": [
    "#print('train_predict.shape',train_predict.shape)\n",
    "#print('test_predict.shape',test_predict.shape)"
   ]
  },
  {
   "cell_type": "code",
   "execution_count": 46,
   "id": "0d2a6e0b",
   "metadata": {
    "execution": {
     "iopub.execute_input": "2022-01-30T15:08:03.481932Z",
     "iopub.status.busy": "2022-01-30T15:08:03.480635Z",
     "iopub.status.idle": "2022-01-30T15:08:03.485577Z",
     "shell.execute_reply": "2022-01-30T15:08:03.486031Z"
    },
    "papermill": {
     "duration": 18.986707,
     "end_time": "2022-01-30T15:08:03.486230",
     "exception": false,
     "start_time": "2022-01-30T15:07:44.499523",
     "status": "completed"
    },
    "tags": []
   },
   "outputs": [
    {
     "name": "stdout",
     "output_type": "stream",
     "text": [
      "X_train.shape (15266204, 3, 1)\n",
      "y_train.shape (15266204, 1)\n",
      "X_test.shape (8220264, 3, 1)\n",
      "ytest.shape (8220264, 1)\n"
     ]
    }
   ],
   "source": [
    "print('X_train.shape',X_train.shape)\n",
    "print('y_train.shape',y_train.shape)\n",
    "print('X_test.shape',X_test.shape)\n",
    "print('ytest.shape',y_test.shape)"
   ]
  },
  {
   "cell_type": "code",
   "execution_count": 47,
   "id": "ab80e113",
   "metadata": {
    "execution": {
     "iopub.execute_input": "2022-01-30T15:08:40.998307Z",
     "iopub.status.busy": "2022-01-30T15:08:40.997509Z",
     "iopub.status.idle": "2022-01-30T15:08:40.999434Z",
     "shell.execute_reply": "2022-01-30T15:08:40.998909Z"
    },
    "papermill": {
     "duration": 18.635158,
     "end_time": "2022-01-30T15:08:40.999621",
     "exception": false,
     "start_time": "2022-01-30T15:08:22.364463",
     "status": "completed"
    },
    "tags": []
   },
   "outputs": [],
   "source": [
    "### Calculate RMSE performance metrics\n",
    "#import math\n",
    "#from sklearn.metrics import mean_squared_error\n",
    "#math.sqrt(mean_squared_error(y_train,train_predict))"
   ]
  },
  {
   "cell_type": "code",
   "execution_count": 48,
   "id": "912f5f81",
   "metadata": {
    "execution": {
     "iopub.execute_input": "2022-01-30T15:09:18.931379Z",
     "iopub.status.busy": "2022-01-30T15:09:18.930715Z",
     "iopub.status.idle": "2022-01-30T15:09:18.932734Z",
     "shell.execute_reply": "2022-01-30T15:09:18.932126Z"
    },
    "papermill": {
     "duration": 19.010547,
     "end_time": "2022-01-30T15:09:18.932883",
     "exception": false,
     "start_time": "2022-01-30T15:08:59.922336",
     "status": "completed"
    },
    "tags": []
   },
   "outputs": [],
   "source": [
    "### Test Data RMSE\n",
    "#math.sqrt(mean_squared_error(ytest,test_predict))"
   ]
  },
  {
   "cell_type": "code",
   "execution_count": 49,
   "id": "e470c899",
   "metadata": {
    "execution": {
     "iopub.execute_input": "2022-01-30T15:09:56.805525Z",
     "iopub.status.busy": "2022-01-30T15:09:56.804811Z",
     "iopub.status.idle": "2022-01-30T15:09:56.807744Z",
     "shell.execute_reply": "2022-01-30T15:09:56.808248Z"
    },
    "papermill": {
     "duration": 18.851836,
     "end_time": "2022-01-30T15:09:56.808456",
     "exception": false,
     "start_time": "2022-01-30T15:09:37.956620",
     "status": "completed"
    },
    "tags": []
   },
   "outputs": [],
   "source": [
    "test1=testdf[['timestamp', 'Asset_ID','Close']]"
   ]
  },
  {
   "cell_type": "code",
   "execution_count": 50,
   "id": "943edce1",
   "metadata": {
    "execution": {
     "iopub.execute_input": "2022-01-30T15:10:35.304356Z",
     "iopub.status.busy": "2022-01-30T15:10:35.303689Z",
     "iopub.status.idle": "2022-01-30T15:10:35.312807Z",
     "shell.execute_reply": "2022-01-30T15:10:35.313363Z"
    },
    "papermill": {
     "duration": 19.484518,
     "end_time": "2022-01-30T15:10:35.313582",
     "exception": false,
     "start_time": "2022-01-30T15:10:15.829064",
     "status": "completed"
    },
    "tags": []
   },
   "outputs": [
    {
     "data": {
      "text/html": [
       "<div>\n",
       "<style scoped>\n",
       "    .dataframe tbody tr th:only-of-type {\n",
       "        vertical-align: middle;\n",
       "    }\n",
       "\n",
       "    .dataframe tbody tr th {\n",
       "        vertical-align: top;\n",
       "    }\n",
       "\n",
       "    .dataframe thead th {\n",
       "        text-align: right;\n",
       "    }\n",
       "</style>\n",
       "<table border=\"1\" class=\"dataframe\">\n",
       "  <thead>\n",
       "    <tr style=\"text-align: right;\">\n",
       "      <th></th>\n",
       "      <th>timestamp</th>\n",
       "      <th>Asset_ID</th>\n",
       "      <th>Close</th>\n",
       "    </tr>\n",
       "  </thead>\n",
       "  <tbody>\n",
       "    <tr>\n",
       "      <th>0</th>\n",
       "      <td>1623542400</td>\n",
       "      <td>3</td>\n",
       "      <td>1.483681</td>\n",
       "    </tr>\n",
       "    <tr>\n",
       "      <th>1</th>\n",
       "      <td>1623542400</td>\n",
       "      <td>2</td>\n",
       "      <td>582.276667</td>\n",
       "    </tr>\n",
       "    <tr>\n",
       "      <th>2</th>\n",
       "      <td>1623542400</td>\n",
       "      <td>0</td>\n",
       "      <td>344.598000</td>\n",
       "    </tr>\n",
       "    <tr>\n",
       "      <th>3</th>\n",
       "      <td>1623542400</td>\n",
       "      <td>1</td>\n",
       "      <td>35602.004286</td>\n",
       "    </tr>\n",
       "    <tr>\n",
       "      <th>4</th>\n",
       "      <td>1623542400</td>\n",
       "      <td>4</td>\n",
       "      <td>0.312208</td>\n",
       "    </tr>\n",
       "  </tbody>\n",
       "</table>\n",
       "</div>"
      ],
      "text/plain": [
       "    timestamp  Asset_ID         Close\n",
       "0  1623542400         3      1.483681\n",
       "1  1623542400         2    582.276667\n",
       "2  1623542400         0    344.598000\n",
       "3  1623542400         1  35602.004286\n",
       "4  1623542400         4      0.312208"
      ]
     },
     "execution_count": 50,
     "metadata": {},
     "output_type": "execute_result"
    }
   ],
   "source": [
    "test1.head()"
   ]
  },
  {
   "cell_type": "code",
   "execution_count": 51,
   "id": "7931a35a",
   "metadata": {
    "execution": {
     "iopub.execute_input": "2022-01-30T15:11:13.172167Z",
     "iopub.status.busy": "2022-01-30T15:11:13.171063Z",
     "iopub.status.idle": "2022-01-30T15:11:13.175837Z",
     "shell.execute_reply": "2022-01-30T15:11:13.176481Z"
    },
    "papermill": {
     "duration": 18.843613,
     "end_time": "2022-01-30T15:11:13.176686",
     "exception": false,
     "start_time": "2022-01-30T15:10:54.333073",
     "status": "completed"
    },
    "tags": []
   },
   "outputs": [],
   "source": [
    "from sklearn.preprocessing import MinMaxScaler\n",
    "scaler=MinMaxScaler(feature_range=(0,1))\n",
    "test3=scaler.fit_transform(np.array(test1))"
   ]
  },
  {
   "cell_type": "code",
   "execution_count": 52,
   "id": "c3cea3c8",
   "metadata": {
    "execution": {
     "iopub.execute_input": "2022-01-30T15:11:51.114237Z",
     "iopub.status.busy": "2022-01-30T15:11:51.113508Z",
     "iopub.status.idle": "2022-01-30T15:11:51.117162Z",
     "shell.execute_reply": "2022-01-30T15:11:51.117764Z"
    },
    "papermill": {
     "duration": 19.0906,
     "end_time": "2022-01-30T15:11:51.117977",
     "exception": false,
     "start_time": "2022-01-30T15:11:32.027377",
     "status": "completed"
    },
    "tags": []
   },
   "outputs": [
    {
     "data": {
      "text/plain": [
       "(56, 3)"
      ]
     },
     "execution_count": 52,
     "metadata": {},
     "output_type": "execute_result"
    }
   ],
   "source": [
    "test3.shape\n"
   ]
  },
  {
   "cell_type": "code",
   "execution_count": 53,
   "id": "83576ea3",
   "metadata": {
    "execution": {
     "iopub.execute_input": "2022-01-30T15:12:29.652349Z",
     "iopub.status.busy": "2022-01-30T15:12:29.651708Z",
     "iopub.status.idle": "2022-01-30T15:12:29.657892Z",
     "shell.execute_reply": "2022-01-30T15:12:29.658431Z"
    },
    "papermill": {
     "duration": 19.125265,
     "end_time": "2022-01-30T15:12:29.658604",
     "exception": false,
     "start_time": "2022-01-30T15:12:10.533339",
     "status": "completed"
    },
    "tags": []
   },
   "outputs": [
    {
     "data": {
      "text/plain": [
       "array([[0.00000000e+00, 2.30769231e-01, 3.97659644e-05],\n",
       "       [0.00000000e+00, 1.53846154e-01, 1.63532883e-02],\n",
       "       [0.00000000e+00, 0.00000000e+00, 9.67728442e-03],\n",
       "       [0.00000000e+00, 7.69230769e-02, 1.00000000e+00],\n",
       "       [0.00000000e+00, 3.07692308e-01, 6.86121108e-06],\n",
       "       [0.00000000e+00, 3.84615385e-01, 1.33971571e-04],\n",
       "       [0.00000000e+00, 5.38461538e-01, 1.55263308e-03],\n",
       "       [0.00000000e+00, 4.61538462e-01, 6.66905517e-02],\n",
       "       [0.00000000e+00, 6.15384615e-01, 2.62728406e-05],\n",
       "       [0.00000000e+00, 6.92307692e-01, 4.55443706e-03],\n",
       "       [0.00000000e+00, 7.69230769e-01, 8.27766799e-02],\n",
       "       [0.00000000e+00, 1.00000000e+00, 6.23561589e-09],\n",
       "       [0.00000000e+00, 9.23076923e-01, 7.32804711e-06],\n",
       "       [0.00000000e+00, 8.46153846e-01, 6.83852029e-03],\n",
       "       [3.33333334e-01, 2.30769231e-01, 3.97199519e-05],\n",
       "       [3.33333334e-01, 1.53846154e-01, 1.63555822e-02],\n",
       "       [3.33333334e-01, 0.00000000e+00, 9.66300149e-03],\n",
       "       [3.33333334e-01, 7.69230769e-02, 9.98690882e-01],\n",
       "       [3.33333334e-01, 3.07692308e-01, 6.85104590e-06],\n",
       "       [3.33333334e-01, 3.84615385e-01, 1.33991701e-04],\n",
       "       [3.33333334e-01, 5.38461538e-01, 1.55099609e-03],\n",
       "       [3.33333334e-01, 4.61538462e-01, 6.66177828e-02],\n",
       "       [3.33333334e-01, 6.15384615e-01, 2.62236860e-05],\n",
       "       [3.33333334e-01, 6.92307692e-01, 4.55382714e-03],\n",
       "       [3.33333334e-01, 7.69230769e-01, 8.27383077e-02],\n",
       "       [3.33333334e-01, 1.00000000e+00, 7.88721145e-09],\n",
       "       [3.33333334e-01, 9.23076923e-01, 7.32058028e-06],\n",
       "       [3.33333334e-01, 8.46153846e-01, 6.83283239e-03],\n",
       "       [6.66666668e-01, 2.30769231e-01, 3.96417389e-05],\n",
       "       [6.66666668e-01, 1.53846154e-01, 1.63045082e-02],\n",
       "       [6.66666668e-01, 0.00000000e+00, 9.63266606e-03],\n",
       "       [6.66666668e-01, 7.69230769e-02, 9.96805882e-01],\n",
       "       [6.66666668e-01, 3.07692308e-01, 6.82743763e-06],\n",
       "       [6.66666668e-01, 3.84615385e-01, 1.33536108e-04],\n",
       "       [6.66666668e-01, 5.38461538e-01, 1.54368328e-03],\n",
       "       [6.66666668e-01, 4.61538462e-01, 6.64436350e-02],\n",
       "       [6.66666668e-01, 6.15384615e-01, 2.61099281e-05],\n",
       "       [6.66666668e-01, 6.92307692e-01, 4.54360699e-03],\n",
       "       [6.66666668e-01, 7.69230769e-01, 8.23877678e-02],\n",
       "       [6.66666668e-01, 1.00000000e+00, 2.50922681e-09],\n",
       "       [6.66666668e-01, 9.23076923e-01, 7.29063475e-06],\n",
       "       [6.66666668e-01, 8.46153846e-01, 6.80523558e-03],\n",
       "       [1.00000000e+00, 2.30769231e-01, 3.94807402e-05],\n",
       "       [1.00000000e+00, 1.53846154e-01, 1.62587804e-02],\n",
       "       [1.00000000e+00, 0.00000000e+00, 9.61343958e-03],\n",
       "       [1.00000000e+00, 7.69230769e-02, 9.94985827e-01],\n",
       "       [1.00000000e+00, 3.07692308e-01, 6.81817971e-06],\n",
       "       [1.00000000e+00, 3.84615385e-01, 1.33293705e-04],\n",
       "       [1.00000000e+00, 5.38461538e-01, 1.54129296e-03],\n",
       "       [1.00000000e+00, 4.61538462e-01, 6.63008258e-02],\n",
       "       [1.00000000e+00, 6.15384615e-01, 2.59273538e-05],\n",
       "       [1.00000000e+00, 6.92307692e-01, 4.53394058e-03],\n",
       "       [1.00000000e+00, 7.69230769e-01, 8.21586145e-02],\n",
       "       [1.00000000e+00, 1.00000000e+00, 0.00000000e+00],\n",
       "       [1.00000000e+00, 9.23076923e-01, 7.26000306e-06],\n",
       "       [1.00000000e+00, 8.46153846e-01, 6.79755341e-03]])"
      ]
     },
     "execution_count": 53,
     "metadata": {},
     "output_type": "execute_result"
    }
   ],
   "source": [
    "test3"
   ]
  },
  {
   "cell_type": "code",
   "execution_count": 54,
   "id": "fcc7c5c2",
   "metadata": {
    "execution": {
     "iopub.execute_input": "2022-01-30T15:13:07.694113Z",
     "iopub.status.busy": "2022-01-30T15:13:07.693165Z",
     "iopub.status.idle": "2022-01-30T15:13:07.696114Z",
     "shell.execute_reply": "2022-01-30T15:13:07.695587Z"
    },
    "papermill": {
     "duration": 19.128599,
     "end_time": "2022-01-30T15:13:07.696262",
     "exception": false,
     "start_time": "2022-01-30T15:12:48.567663",
     "status": "completed"
    },
    "tags": []
   },
   "outputs": [],
   "source": [
    "test4 =test3.reshape(test3.shape[0],test3.shape[1] , 1)"
   ]
  },
  {
   "cell_type": "code",
   "execution_count": 55,
   "id": "7a1ff935",
   "metadata": {
    "execution": {
     "iopub.execute_input": "2022-01-30T15:13:45.754148Z",
     "iopub.status.busy": "2022-01-30T15:13:45.753501Z",
     "iopub.status.idle": "2022-01-30T15:13:45.756333Z",
     "shell.execute_reply": "2022-01-30T15:13:45.756826Z"
    },
    "papermill": {
     "duration": 19.084471,
     "end_time": "2022-01-30T15:13:45.757004",
     "exception": false,
     "start_time": "2022-01-30T15:13:26.672533",
     "status": "completed"
    },
    "tags": []
   },
   "outputs": [
    {
     "data": {
      "text/plain": [
       "array([[[0.00000000e+00],\n",
       "        [2.30769231e-01],\n",
       "        [3.97659644e-05]],\n",
       "\n",
       "       [[0.00000000e+00],\n",
       "        [1.53846154e-01],\n",
       "        [1.63532883e-02]],\n",
       "\n",
       "       [[0.00000000e+00],\n",
       "        [0.00000000e+00],\n",
       "        [9.67728442e-03]],\n",
       "\n",
       "       [[0.00000000e+00],\n",
       "        [7.69230769e-02],\n",
       "        [1.00000000e+00]],\n",
       "\n",
       "       [[0.00000000e+00],\n",
       "        [3.07692308e-01],\n",
       "        [6.86121108e-06]],\n",
       "\n",
       "       [[0.00000000e+00],\n",
       "        [3.84615385e-01],\n",
       "        [1.33971571e-04]],\n",
       "\n",
       "       [[0.00000000e+00],\n",
       "        [5.38461538e-01],\n",
       "        [1.55263308e-03]],\n",
       "\n",
       "       [[0.00000000e+00],\n",
       "        [4.61538462e-01],\n",
       "        [6.66905517e-02]],\n",
       "\n",
       "       [[0.00000000e+00],\n",
       "        [6.15384615e-01],\n",
       "        [2.62728406e-05]],\n",
       "\n",
       "       [[0.00000000e+00],\n",
       "        [6.92307692e-01],\n",
       "        [4.55443706e-03]],\n",
       "\n",
       "       [[0.00000000e+00],\n",
       "        [7.69230769e-01],\n",
       "        [8.27766799e-02]],\n",
       "\n",
       "       [[0.00000000e+00],\n",
       "        [1.00000000e+00],\n",
       "        [6.23561589e-09]],\n",
       "\n",
       "       [[0.00000000e+00],\n",
       "        [9.23076923e-01],\n",
       "        [7.32804711e-06]],\n",
       "\n",
       "       [[0.00000000e+00],\n",
       "        [8.46153846e-01],\n",
       "        [6.83852029e-03]],\n",
       "\n",
       "       [[3.33333334e-01],\n",
       "        [2.30769231e-01],\n",
       "        [3.97199519e-05]],\n",
       "\n",
       "       [[3.33333334e-01],\n",
       "        [1.53846154e-01],\n",
       "        [1.63555822e-02]],\n",
       "\n",
       "       [[3.33333334e-01],\n",
       "        [0.00000000e+00],\n",
       "        [9.66300149e-03]],\n",
       "\n",
       "       [[3.33333334e-01],\n",
       "        [7.69230769e-02],\n",
       "        [9.98690882e-01]],\n",
       "\n",
       "       [[3.33333334e-01],\n",
       "        [3.07692308e-01],\n",
       "        [6.85104590e-06]],\n",
       "\n",
       "       [[3.33333334e-01],\n",
       "        [3.84615385e-01],\n",
       "        [1.33991701e-04]],\n",
       "\n",
       "       [[3.33333334e-01],\n",
       "        [5.38461538e-01],\n",
       "        [1.55099609e-03]],\n",
       "\n",
       "       [[3.33333334e-01],\n",
       "        [4.61538462e-01],\n",
       "        [6.66177828e-02]],\n",
       "\n",
       "       [[3.33333334e-01],\n",
       "        [6.15384615e-01],\n",
       "        [2.62236860e-05]],\n",
       "\n",
       "       [[3.33333334e-01],\n",
       "        [6.92307692e-01],\n",
       "        [4.55382714e-03]],\n",
       "\n",
       "       [[3.33333334e-01],\n",
       "        [7.69230769e-01],\n",
       "        [8.27383077e-02]],\n",
       "\n",
       "       [[3.33333334e-01],\n",
       "        [1.00000000e+00],\n",
       "        [7.88721145e-09]],\n",
       "\n",
       "       [[3.33333334e-01],\n",
       "        [9.23076923e-01],\n",
       "        [7.32058028e-06]],\n",
       "\n",
       "       [[3.33333334e-01],\n",
       "        [8.46153846e-01],\n",
       "        [6.83283239e-03]],\n",
       "\n",
       "       [[6.66666668e-01],\n",
       "        [2.30769231e-01],\n",
       "        [3.96417389e-05]],\n",
       "\n",
       "       [[6.66666668e-01],\n",
       "        [1.53846154e-01],\n",
       "        [1.63045082e-02]],\n",
       "\n",
       "       [[6.66666668e-01],\n",
       "        [0.00000000e+00],\n",
       "        [9.63266606e-03]],\n",
       "\n",
       "       [[6.66666668e-01],\n",
       "        [7.69230769e-02],\n",
       "        [9.96805882e-01]],\n",
       "\n",
       "       [[6.66666668e-01],\n",
       "        [3.07692308e-01],\n",
       "        [6.82743763e-06]],\n",
       "\n",
       "       [[6.66666668e-01],\n",
       "        [3.84615385e-01],\n",
       "        [1.33536108e-04]],\n",
       "\n",
       "       [[6.66666668e-01],\n",
       "        [5.38461538e-01],\n",
       "        [1.54368328e-03]],\n",
       "\n",
       "       [[6.66666668e-01],\n",
       "        [4.61538462e-01],\n",
       "        [6.64436350e-02]],\n",
       "\n",
       "       [[6.66666668e-01],\n",
       "        [6.15384615e-01],\n",
       "        [2.61099281e-05]],\n",
       "\n",
       "       [[6.66666668e-01],\n",
       "        [6.92307692e-01],\n",
       "        [4.54360699e-03]],\n",
       "\n",
       "       [[6.66666668e-01],\n",
       "        [7.69230769e-01],\n",
       "        [8.23877678e-02]],\n",
       "\n",
       "       [[6.66666668e-01],\n",
       "        [1.00000000e+00],\n",
       "        [2.50922681e-09]],\n",
       "\n",
       "       [[6.66666668e-01],\n",
       "        [9.23076923e-01],\n",
       "        [7.29063475e-06]],\n",
       "\n",
       "       [[6.66666668e-01],\n",
       "        [8.46153846e-01],\n",
       "        [6.80523558e-03]],\n",
       "\n",
       "       [[1.00000000e+00],\n",
       "        [2.30769231e-01],\n",
       "        [3.94807402e-05]],\n",
       "\n",
       "       [[1.00000000e+00],\n",
       "        [1.53846154e-01],\n",
       "        [1.62587804e-02]],\n",
       "\n",
       "       [[1.00000000e+00],\n",
       "        [0.00000000e+00],\n",
       "        [9.61343958e-03]],\n",
       "\n",
       "       [[1.00000000e+00],\n",
       "        [7.69230769e-02],\n",
       "        [9.94985827e-01]],\n",
       "\n",
       "       [[1.00000000e+00],\n",
       "        [3.07692308e-01],\n",
       "        [6.81817971e-06]],\n",
       "\n",
       "       [[1.00000000e+00],\n",
       "        [3.84615385e-01],\n",
       "        [1.33293705e-04]],\n",
       "\n",
       "       [[1.00000000e+00],\n",
       "        [5.38461538e-01],\n",
       "        [1.54129296e-03]],\n",
       "\n",
       "       [[1.00000000e+00],\n",
       "        [4.61538462e-01],\n",
       "        [6.63008258e-02]],\n",
       "\n",
       "       [[1.00000000e+00],\n",
       "        [6.15384615e-01],\n",
       "        [2.59273538e-05]],\n",
       "\n",
       "       [[1.00000000e+00],\n",
       "        [6.92307692e-01],\n",
       "        [4.53394058e-03]],\n",
       "\n",
       "       [[1.00000000e+00],\n",
       "        [7.69230769e-01],\n",
       "        [8.21586145e-02]],\n",
       "\n",
       "       [[1.00000000e+00],\n",
       "        [1.00000000e+00],\n",
       "        [0.00000000e+00]],\n",
       "\n",
       "       [[1.00000000e+00],\n",
       "        [9.23076923e-01],\n",
       "        [7.26000306e-06]],\n",
       "\n",
       "       [[1.00000000e+00],\n",
       "        [8.46153846e-01],\n",
       "        [6.79755341e-03]]])"
      ]
     },
     "execution_count": 55,
     "metadata": {},
     "output_type": "execute_result"
    }
   ],
   "source": [
    "test4"
   ]
  },
  {
   "cell_type": "code",
   "execution_count": 56,
   "id": "56230122",
   "metadata": {
    "execution": {
     "iopub.execute_input": "2022-01-30T15:14:24.004775Z",
     "iopub.status.busy": "2022-01-30T15:14:24.004086Z",
     "iopub.status.idle": "2022-01-30T15:14:25.409458Z",
     "shell.execute_reply": "2022-01-30T15:14:25.410061Z"
    },
    "papermill": {
     "duration": 20.525435,
     "end_time": "2022-01-30T15:14:25.410259",
     "exception": false,
     "start_time": "2022-01-30T15:14:04.884824",
     "status": "completed"
    },
    "tags": []
   },
   "outputs": [],
   "source": [
    "predict=model.predict(test4)"
   ]
  },
  {
   "cell_type": "code",
   "execution_count": 57,
   "id": "467570d4",
   "metadata": {
    "execution": {
     "iopub.execute_input": "2022-01-30T15:15:03.358649Z",
     "iopub.status.busy": "2022-01-30T15:15:03.357792Z",
     "iopub.status.idle": "2022-01-30T15:15:03.380705Z",
     "shell.execute_reply": "2022-01-30T15:15:03.381159Z"
    },
    "papermill": {
     "duration": 18.961927,
     "end_time": "2022-01-30T15:15:03.381364",
     "exception": false,
     "start_time": "2022-01-30T15:14:44.419437",
     "status": "completed"
    },
    "tags": []
   },
   "outputs": [
    {
     "data": {
      "text/html": [
       "<div>\n",
       "<style scoped>\n",
       "    .dataframe tbody tr th:only-of-type {\n",
       "        vertical-align: middle;\n",
       "    }\n",
       "\n",
       "    .dataframe tbody tr th {\n",
       "        vertical-align: top;\n",
       "    }\n",
       "\n",
       "    .dataframe thead th {\n",
       "        text-align: right;\n",
       "    }\n",
       "</style>\n",
       "<table border=\"1\" class=\"dataframe\">\n",
       "  <thead>\n",
       "    <tr style=\"text-align: right;\">\n",
       "      <th></th>\n",
       "      <th>timestamp</th>\n",
       "      <th>Asset_ID</th>\n",
       "      <th>Count</th>\n",
       "      <th>Open</th>\n",
       "      <th>High</th>\n",
       "      <th>Low</th>\n",
       "      <th>Close</th>\n",
       "      <th>Volume</th>\n",
       "      <th>VWAP</th>\n",
       "      <th>group_num</th>\n",
       "      <th>row_id</th>\n",
       "    </tr>\n",
       "  </thead>\n",
       "  <tbody>\n",
       "    <tr>\n",
       "      <th>0</th>\n",
       "      <td>1623542400</td>\n",
       "      <td>3</td>\n",
       "      <td>1201.0</td>\n",
       "      <td>1.478556</td>\n",
       "      <td>1.48603</td>\n",
       "      <td>1.478</td>\n",
       "      <td>1.483681</td>\n",
       "      <td>654799.561103</td>\n",
       "      <td>1.481439</td>\n",
       "      <td>0</td>\n",
       "      <td>0</td>\n",
       "    </tr>\n",
       "    <tr>\n",
       "      <th>1</th>\n",
       "      <td>1623542400</td>\n",
       "      <td>2</td>\n",
       "      <td>1020.0</td>\n",
       "      <td>580.306667</td>\n",
       "      <td>583.89000</td>\n",
       "      <td>579.910</td>\n",
       "      <td>582.276667</td>\n",
       "      <td>1227.988328</td>\n",
       "      <td>581.697038</td>\n",
       "      <td>0</td>\n",
       "      <td>1</td>\n",
       "    </tr>\n",
       "    <tr>\n",
       "      <th>2</th>\n",
       "      <td>1623542400</td>\n",
       "      <td>0</td>\n",
       "      <td>626.0</td>\n",
       "      <td>343.789500</td>\n",
       "      <td>345.10800</td>\n",
       "      <td>343.640</td>\n",
       "      <td>344.598000</td>\n",
       "      <td>1718.832569</td>\n",
       "      <td>344.441729</td>\n",
       "      <td>0</td>\n",
       "      <td>2</td>\n",
       "    </tr>\n",
       "  </tbody>\n",
       "</table>\n",
       "</div>"
      ],
      "text/plain": [
       "    timestamp  Asset_ID   Count        Open       High      Low       Close  \\\n",
       "0  1623542400         3  1201.0    1.478556    1.48603    1.478    1.483681   \n",
       "1  1623542400         2  1020.0  580.306667  583.89000  579.910  582.276667   \n",
       "2  1623542400         0   626.0  343.789500  345.10800  343.640  344.598000   \n",
       "\n",
       "          Volume        VWAP  group_num  row_id  \n",
       "0  654799.561103    1.481439          0       0  \n",
       "1    1227.988328  581.697038          0       1  \n",
       "2    1718.832569  344.441729          0       2  "
      ]
     },
     "execution_count": 57,
     "metadata": {},
     "output_type": "execute_result"
    }
   ],
   "source": [
    "testNew=pd.read_csv('../input/g-research-crypto-forecasting/example_test.csv')\n",
    "testNew.head(3)"
   ]
  },
  {
   "cell_type": "code",
   "execution_count": 58,
   "id": "a977f66a",
   "metadata": {
    "execution": {
     "iopub.execute_input": "2022-01-30T15:15:41.018539Z",
     "iopub.status.busy": "2022-01-30T15:15:41.017864Z",
     "iopub.status.idle": "2022-01-30T15:15:41.023960Z",
     "shell.execute_reply": "2022-01-30T15:15:41.024418Z"
    },
    "papermill": {
     "duration": 18.716421,
     "end_time": "2022-01-30T15:15:41.024608",
     "exception": false,
     "start_time": "2022-01-30T15:15:22.308187",
     "status": "completed"
    },
    "tags": []
   },
   "outputs": [
    {
     "data": {
      "text/plain": [
       "(56, 1)"
      ]
     },
     "execution_count": 58,
     "metadata": {},
     "output_type": "execute_result"
    }
   ],
   "source": [
    "predict.shape"
   ]
  },
  {
   "cell_type": "code",
   "execution_count": 59,
   "id": "03875518",
   "metadata": {
    "execution": {
     "iopub.execute_input": "2022-01-30T15:16:19.079805Z",
     "iopub.status.busy": "2022-01-30T15:16:19.078857Z",
     "iopub.status.idle": "2022-01-30T15:16:19.084214Z",
     "shell.execute_reply": "2022-01-30T15:16:19.084826Z"
    },
    "papermill": {
     "duration": 19.044995,
     "end_time": "2022-01-30T15:16:19.085008",
     "exception": false,
     "start_time": "2022-01-30T15:16:00.040013",
     "status": "completed"
    },
    "tags": []
   },
   "outputs": [
    {
     "data": {
      "text/plain": [
       "array([[0.00021334],\n",
       "       [0.00021336],\n",
       "       [0.00021341],\n",
       "       [0.00021324],\n",
       "       [0.00021332],\n",
       "       [0.0002133 ],\n",
       "       [0.00021325],\n",
       "       [0.00021326],\n",
       "       [0.00021323],\n",
       "       [0.00021321],\n",
       "       [0.00021318],\n",
       "       [0.00021313],\n",
       "       [0.00021315],\n",
       "       [0.00021317],\n",
       "       [0.00021321],\n",
       "       [0.00021323],\n",
       "       [0.00021328],\n",
       "       [0.00021311],\n",
       "       [0.00021319],\n",
       "       [0.00021317],\n",
       "       [0.00021312],\n",
       "       [0.00021313],\n",
       "       [0.0002131 ],\n",
       "       [0.00021308],\n",
       "       [0.00021305],\n",
       "       [0.000213  ],\n",
       "       [0.00021302],\n",
       "       [0.00021304],\n",
       "       [0.00021309],\n",
       "       [0.00021311],\n",
       "       [0.00021316],\n",
       "       [0.00021299],\n",
       "       [0.00021307],\n",
       "       [0.00021305],\n",
       "       [0.000213  ],\n",
       "       [0.00021301],\n",
       "       [0.00021298],\n",
       "       [0.00021296],\n",
       "       [0.00021293],\n",
       "       [0.00021288],\n",
       "       [0.0002129 ],\n",
       "       [0.00021292],\n",
       "       [0.00021298],\n",
       "       [0.000213  ],\n",
       "       [0.00021305],\n",
       "       [0.00021289],\n",
       "       [0.00021296],\n",
       "       [0.00021294],\n",
       "       [0.00021289],\n",
       "       [0.00021291],\n",
       "       [0.00021287],\n",
       "       [0.00021285],\n",
       "       [0.00021282],\n",
       "       [0.00021278],\n",
       "       [0.00021279],\n",
       "       [0.00021281]], dtype=float32)"
      ]
     },
     "execution_count": 59,
     "metadata": {},
     "output_type": "execute_result"
    }
   ],
   "source": [
    "predict"
   ]
  },
  {
   "cell_type": "code",
   "execution_count": 60,
   "id": "d3feb974",
   "metadata": {
    "execution": {
     "iopub.execute_input": "2022-01-30T15:16:56.711279Z",
     "iopub.status.busy": "2022-01-30T15:16:56.710634Z",
     "iopub.status.idle": "2022-01-30T15:16:56.714009Z",
     "shell.execute_reply": "2022-01-30T15:16:56.713439Z"
    },
    "papermill": {
     "duration": 18.766256,
     "end_time": "2022-01-30T15:16:56.714157",
     "exception": false,
     "start_time": "2022-01-30T15:16:37.947901",
     "status": "completed"
    },
    "tags": []
   },
   "outputs": [
    {
     "name": "stdout",
     "output_type": "stream",
     "text": [
      "No. of dimensions:  2\n"
     ]
    }
   ],
   "source": [
    "print(\"No. of dimensions: \", predict.ndim)"
   ]
  },
  {
   "cell_type": "code",
   "execution_count": 61,
   "id": "3f153d96",
   "metadata": {
    "execution": {
     "iopub.execute_input": "2022-01-30T15:17:34.369541Z",
     "iopub.status.busy": "2022-01-30T15:17:34.368446Z",
     "iopub.status.idle": "2022-01-30T15:17:34.371155Z",
     "shell.execute_reply": "2022-01-30T15:17:34.371692Z"
    },
    "papermill": {
     "duration": 18.797762,
     "end_time": "2022-01-30T15:17:34.371883",
     "exception": false,
     "start_time": "2022-01-30T15:17:15.574121",
     "status": "completed"
    },
    "tags": []
   },
   "outputs": [],
   "source": [
    "predict1=predict.flatten()"
   ]
  },
  {
   "cell_type": "code",
   "execution_count": 62,
   "id": "bb4a283b",
   "metadata": {
    "execution": {
     "iopub.execute_input": "2022-01-30T15:18:12.034686Z",
     "iopub.status.busy": "2022-01-30T15:18:12.034023Z",
     "iopub.status.idle": "2022-01-30T15:18:12.037979Z",
     "shell.execute_reply": "2022-01-30T15:18:12.038580Z"
    },
    "papermill": {
     "duration": 18.834042,
     "end_time": "2022-01-30T15:18:12.038767",
     "exception": false,
     "start_time": "2022-01-30T15:17:53.204725",
     "status": "completed"
    },
    "tags": []
   },
   "outputs": [
    {
     "data": {
      "text/plain": [
       "array([0.00021334, 0.00021336, 0.00021341, 0.00021324, 0.00021332,\n",
       "       0.0002133 , 0.00021325, 0.00021326, 0.00021323, 0.00021321,\n",
       "       0.00021318, 0.00021313, 0.00021315, 0.00021317, 0.00021321,\n",
       "       0.00021323, 0.00021328, 0.00021311, 0.00021319, 0.00021317,\n",
       "       0.00021312, 0.00021313, 0.0002131 , 0.00021308, 0.00021305,\n",
       "       0.000213  , 0.00021302, 0.00021304, 0.00021309, 0.00021311,\n",
       "       0.00021316, 0.00021299, 0.00021307, 0.00021305, 0.000213  ,\n",
       "       0.00021301, 0.00021298, 0.00021296, 0.00021293, 0.00021288,\n",
       "       0.0002129 , 0.00021292, 0.00021298, 0.000213  , 0.00021305,\n",
       "       0.00021289, 0.00021296, 0.00021294, 0.00021289, 0.00021291,\n",
       "       0.00021287, 0.00021285, 0.00021282, 0.00021278, 0.00021279,\n",
       "       0.00021281], dtype=float32)"
      ]
     },
     "execution_count": 62,
     "metadata": {},
     "output_type": "execute_result"
    }
   ],
   "source": [
    "predict1"
   ]
  },
  {
   "cell_type": "code",
   "execution_count": 63,
   "id": "badca582",
   "metadata": {
    "execution": {
     "iopub.execute_input": "2022-01-30T15:18:49.828345Z",
     "iopub.status.busy": "2022-01-30T15:18:49.827708Z",
     "iopub.status.idle": "2022-01-30T15:18:49.830296Z",
     "shell.execute_reply": "2022-01-30T15:18:49.830789Z"
    },
    "papermill": {
     "duration": 18.759119,
     "end_time": "2022-01-30T15:18:49.830967",
     "exception": false,
     "start_time": "2022-01-30T15:18:31.071848",
     "status": "completed"
    },
    "tags": []
   },
   "outputs": [
    {
     "data": {
      "text/plain": [
       "(56, 11)"
      ]
     },
     "execution_count": 63,
     "metadata": {},
     "output_type": "execute_result"
    }
   ],
   "source": [
    "testNew.shape"
   ]
  },
  {
   "cell_type": "code",
   "execution_count": 64,
   "id": "50fd53e7",
   "metadata": {
    "execution": {
     "iopub.execute_input": "2022-01-30T15:19:27.814375Z",
     "iopub.status.busy": "2022-01-30T15:19:27.813765Z",
     "iopub.status.idle": "2022-01-30T15:19:27.816763Z",
     "shell.execute_reply": "2022-01-30T15:19:27.816286Z"
    },
    "papermill": {
     "duration": 18.93295,
     "end_time": "2022-01-30T15:19:27.816900",
     "exception": false,
     "start_time": "2022-01-30T15:19:08.883950",
     "status": "completed"
    },
    "tags": []
   },
   "outputs": [],
   "source": [
    "#data = {'row_id':testNew.row_id,\n",
    "        \n",
    "       # 'Target':predict1}\n",
    "#output=pd.DataFrame(data)\n",
    "#data"
   ]
  },
  {
   "cell_type": "code",
   "execution_count": 65,
   "id": "1bb011ca",
   "metadata": {
    "execution": {
     "iopub.execute_input": "2022-01-30T15:20:05.617364Z",
     "iopub.status.busy": "2022-01-30T15:20:05.616661Z",
     "iopub.status.idle": "2022-01-30T15:20:05.631580Z",
     "shell.execute_reply": "2022-01-30T15:20:05.632100Z"
    },
    "papermill": {
     "duration": 18.9116,
     "end_time": "2022-01-30T15:20:05.632282",
     "exception": false,
     "start_time": "2022-01-30T15:19:46.720682",
     "status": "completed"
    },
    "tags": []
   },
   "outputs": [
    {
     "name": "stdout",
     "output_type": "stream",
     "text": [
      "Submission saved\n"
     ]
    }
   ],
   "source": [
    "#predict = model.predict(X_train)\n",
    "\n",
    "output = pd.DataFrame({\n",
    "                       'group_num':testNew.group_num,\n",
    "                        'row_id': testNew.row_id,\n",
    "                       'Target': predict1})\n",
    "output.to_csv('submission.csv' , index=False)\n",
    "print(\"Submission saved\")"
   ]
  },
  {
   "cell_type": "code",
   "execution_count": 66,
   "id": "2878ebc5",
   "metadata": {
    "execution": {
     "iopub.execute_input": "2022-01-30T15:20:43.524271Z",
     "iopub.status.busy": "2022-01-30T15:20:43.523554Z",
     "iopub.status.idle": "2022-01-30T15:20:43.526805Z",
     "shell.execute_reply": "2022-01-30T15:20:43.526248Z"
    },
    "papermill": {
     "duration": 18.842127,
     "end_time": "2022-01-30T15:20:43.526963",
     "exception": false,
     "start_time": "2022-01-30T15:20:24.684836",
     "status": "completed"
    },
    "tags": []
   },
   "outputs": [],
   "source": [
    "#output.to_csv('output.csv')"
   ]
  },
  {
   "cell_type": "code",
   "execution_count": 67,
   "id": "6cd7ab45",
   "metadata": {
    "execution": {
     "iopub.execute_input": "2022-01-30T15:21:21.276930Z",
     "iopub.status.busy": "2022-01-30T15:21:21.275900Z",
     "iopub.status.idle": "2022-01-30T15:21:21.278351Z",
     "shell.execute_reply": "2022-01-30T15:21:21.277845Z"
    },
    "papermill": {
     "duration": 18.798104,
     "end_time": "2022-01-30T15:21:21.278529",
     "exception": false,
     "start_time": "2022-01-30T15:21:02.480425",
     "status": "completed"
    },
    "tags": []
   },
   "outputs": [],
   "source": [
    "#output"
   ]
  },
  {
   "cell_type": "code",
   "execution_count": null,
   "id": "2a563caf",
   "metadata": {
    "papermill": {
     "duration": 18.743192,
     "end_time": "2022-01-30T15:21:59.190757",
     "exception": false,
     "start_time": "2022-01-30T15:21:40.447565",
     "status": "completed"
    },
    "tags": []
   },
   "outputs": [],
   "source": []
  }
 ],
 "metadata": {
  "kernelspec": {
   "display_name": "Python 3",
   "language": "python",
   "name": "python3"
  },
  "language_info": {
   "codemirror_mode": {
    "name": "ipython",
    "version": 3
   },
   "file_extension": ".py",
   "mimetype": "text/x-python",
   "name": "python",
   "nbconvert_exporter": "python",
   "pygments_lexer": "ipython3",
   "version": "3.7.12"
  },
  "papermill": {
   "default_parameters": {},
   "duration": 4962.962456,
   "end_time": "2022-01-30T15:22:21.154259",
   "environment_variables": {},
   "exception": null,
   "input_path": "__notebook__.ipynb",
   "output_path": "__notebook__.ipynb",
   "parameters": {},
   "start_time": "2022-01-30T13:59:38.191803",
   "version": "2.3.3"
  }
 },
 "nbformat": 4,
 "nbformat_minor": 5
}
